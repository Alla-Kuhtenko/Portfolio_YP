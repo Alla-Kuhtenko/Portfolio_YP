{
 "cells": [
  {
   "cell_type": "markdown",
   "metadata": {},
   "source": [
    "# Крупный интернет-магазин.\n",
    "  \n",
    "\n",
    "##### Вместе с отделом маркетинга подготовлен список гипотез для увеличения выручки.. \n",
    "\n",
    "  \n",
    "#### `Задача:` Необходимо приоритизировать гипотезы, провести A/B-тест и проанализировать результаты.      \n",
    "\n",
    "#### `Цель:`  Проанализировать A/B-тест, принять решение по результатам теста и объяснить его.\n",
    "  \n",
    "#### `Основные вопросы исследования:`  \n",
    "  \n",
    "- как изменилась приоритизация гипотез при применении RICE вместо ICE,  \n",
    "- какие выводы и предположения можно сделать по построенным графикам,  \n",
    "- какие выводы и предположения можно сделать по расчёту статистической значимости,  \n",
    "- какое решение будет верным по результатам теста.  \n",
    "  \n",
    "#### `Данные:`  Проект состоит из 2 частей.  \n",
    "  \n",
    "- Часть 1. Приоритизация гипотез.  \n",
    "- Часть 2. Анализ A/B-теста.   \n",
    "  \n",
    "#### `Описание данных:`\n",
    "\n",
    "   ##### `Часть 1. Файл /datasets/hypothesis.csv:`  \n",
    "  \n",
    "`Hypothesis` — краткое описание гипотезы  \n",
    "`Reach` —  охват пользователей по 10-балльной шкале  \n",
    "`Impact` —  влияние на пользователей по 10-балльной шкале  \n",
    "`Confidence` — уверенность в гипотезе по 10-балльной шкале   \n",
    "`Efforts` — затраты ресурсов на проверку гипотезы по 10-балльной шкале  \n",
    "\n",
    "   ##### `Часть 2. Файл /datasets/orders.csv:`  \n",
    "   \n",
    "`transactionId` —  идентификатор заказа  \n",
    "`visitorId` — идентификатор пользователя, совершившего заказ  \n",
    "`date` — дата, когда был совершён заказ  \n",
    "`revenue` — выручка заказа  \n",
    "`group` — группа A/B-теста, в которую попал заказ  \n",
    "   \n",
    "   ##### `Часть 2. Файл /datasets/visitors.csv:`  \n",
    "   \n",
    "`date` —  дата  \n",
    "`group` —  группа A/B-теста  \n",
    "`visitors` —  количество пользователей в указанную дату в указанной группе A/B-теста  \n",
    "   \n",
    "   \n",
    "#### `Требования к исследованию:`\n",
    "  \n",
    "Подготовить данные  \n",
    "  \n",
    "Провести приоритизацию гипотез   \n",
    "   \n",
    "Верно интерпретировать графики   \n",
    "  \n",
    "Рассчитать статистическую значимость  \n",
    "  \n",
    "Сделать выводы по результатам A/B-теста  \n",
    "  \n",
    "Сформировать логичную структуру проекта  \n",
    "  \n",
    "Соблюсти структуру проекта и поддерживать аккуратность кода  \n",
    "  \n",
    "Сделать корректные выводы  "
   ]
  },
  {
   "cell_type": "markdown",
   "metadata": {},
   "source": [
    "## Изучение общей информации."
   ]
  },
  {
   "cell_type": "markdown",
   "metadata": {},
   "source": [
    "### Загрузка данных и подготовка к анализу"
   ]
  },
  {
   "cell_type": "markdown",
   "metadata": {},
   "source": [
    "\n",
    "**Пути к файлам**\n",
    "\n",
    "- гипотезы: `/datasets/hypothesis.csv`. [Скачать датасет](https://code.s3.yandex.net/datasets/hypothesis.csv);\n",
    "- заказы: `/datasets/orders.csv`. [Скачать датасет](https://code.s3.yandex.net/datasets/orders.csv);\n",
    "- посетители: `/datasets/visitors.csv`. [Скачать датасет](https://code.s3.yandex.net/datasets/visitors.csv)."
   ]
  },
  {
   "cell_type": "markdown",
   "metadata": {},
   "source": [
    "### Получение данных"
   ]
  },
  {
   "cell_type": "code",
   "execution_count": 1,
   "metadata": {},
   "outputs": [],
   "source": [
    "#импорт библиотек\n",
    "import pandas as pd\n",
    "import scipy.stats as stats\n",
    "import datetime as dt\n",
    "from scipy import stats as st\n",
    "import numpy as np\n",
    "import math as mth\n",
    "import matplotlib.pyplot as plt\n",
    "from pandas.plotting import register_matplotlib_converters\n",
    "import warnings\n",
    "import seaborn as sns\n",
    "from scipy import stats as st\n",
    "\n",
    "# не показывать предупреждения\n",
    "from pandas.plotting import register_matplotlib_converters\n",
    "import warnings\n",
    "warnings.filterwarnings('ignore')\n",
    "\n",
    "from termcolor import cprint # жирный шрифт\n",
    "\n",
    "# конвертеры, которые позволяют использовать типы pandas в matplotlib  \n",
    "register_matplotlib_converters()\n",
    "\n",
    "pd.set_option('max_colwidth', None) # вывод всех символов в записях"
   ]
  },
  {
   "cell_type": "code",
   "execution_count": 2,
   "metadata": {},
   "outputs": [],
   "source": [
    "# загрузка датасетов\n",
    "\n",
    "try:\n",
    "    hypothesis, orders, visitors = (\n",
    "    pd.read_csv('/datasets/hypothesis.csv'),  # информация о 9 гипотезах по увеличению выручки интернет-магазина\n",
    "    pd.read_csv('/datasets/orders.csv'),  # информация о заказах в период проведения теста\n",
    "    pd.read_csv('/datasets/visitors.csv'),  # информация о пользователях по дням\n",
    ")\n",
    "except:\n",
    "    hypothesis, orders, visitors = (\n",
    "    pd.read_csv('https://code.s3.yandex.net//datasets/hypothesis.csv'),  \n",
    "    pd.read_csv('https://code.s3.yandex.net//datasets/orders.csv'), \n",
    "    pd.read_csv('https://code.s3.yandex.net//datasets/visitors.csv'), \n",
    ")\n",
    "sns.set()  "
   ]
  },
  {
   "cell_type": "markdown",
   "metadata": {},
   "source": [
    "### Изучение данных"
   ]
  },
  {
   "cell_type": "code",
   "execution_count": 10,
   "metadata": {},
   "outputs": [],
   "source": [
    "# функция для изучения данных\n",
    "def df_analysis(df):\n",
    "    print('_________________________________________________________________________________________________________')\n",
    "    print(' ')\n",
    "    cprint('Вывод 2 строк таблицы с начала и с конца с заголовками', 'green', attrs=['bold'])\n",
    "    display(df.head(2), df.tail(2))\n",
    "    print('_________________________________________________________________________________________________________')\n",
    "    print(' ')\n",
    "    cprint('Запрос всех атрибутов', 'green', attrs=['bold'])\n",
    "    print(' ')\n",
    "    print(df.info())\n",
    "    print('_________________________________________________________________________________________________________')    \n",
    "    print(' ')\n",
    "    cprint('Числовое описание данных', 'green', attrs=['bold'])\n",
    "    print(' ')\n",
    "    print(df.describe().T.round(1))\n",
    "    print('_________________________________________________________________________________________________________') \n",
    "    print(' ')\n",
    "    cprint('Пропущенные значения', 'green', attrs=['bold'])\n",
    "    print(' ')\n",
    "    df_pass = pd.DataFrame(df.isna().sum().sort_values(ascending=False))\n",
    "    df_pass.columns = ['pass']\n",
    "    df_pass['perc, %'] = (df_pass['pass']/len(df)*100).round(1) \n",
    "    print(df_pass) \n",
    "    print('_________________________________________________________________________________________________________')\n",
    "    print(' ')\n",
    "    cprint('Количество явных дубликатов', 'green', attrs=['bold'])\n",
    "    print(' ')\n",
    "    print(df.duplicated().sum())\n",
    "    print('_________________________________________________________________________________________________________')\n",
    "    print(' ')\n",
    "    cprint('Общая обзорная гистограмма для столбцов с числовыми данными', 'green', attrs=['bold'])\n",
    "    print(' ')\n",
    "    df.hist(figsize=(10, 5))\n",
    "    plt.show()\n",
    "    print('_________________________________________________________________________________________________________')"
   ]
  },
  {
   "cell_type": "markdown",
   "metadata": {},
   "source": [
    "#### Датафрейм 'hypothesis' "
   ]
  },
  {
   "cell_type": "code",
   "execution_count": 11,
   "metadata": {},
   "outputs": [
    {
     "name": "stdout",
     "output_type": "stream",
     "text": [
      "_________________________________________________________________________________________________________\n",
      " \n",
      "\u001b[1m\u001b[32mВывод 2 строк таблицы с начала и с конца с заголовками\u001b[0m\n"
     ]
    },
    {
     "data": {
      "text/html": [
       "<div>\n",
       "<style scoped>\n",
       "    .dataframe tbody tr th:only-of-type {\n",
       "        vertical-align: middle;\n",
       "    }\n",
       "\n",
       "    .dataframe tbody tr th {\n",
       "        vertical-align: top;\n",
       "    }\n",
       "\n",
       "    .dataframe thead th {\n",
       "        text-align: right;\n",
       "    }\n",
       "</style>\n",
       "<table border=\"1\" class=\"dataframe\">\n",
       "  <thead>\n",
       "    <tr style=\"text-align: right;\">\n",
       "      <th></th>\n",
       "      <th>Hypothesis</th>\n",
       "      <th>Reach</th>\n",
       "      <th>Impact</th>\n",
       "      <th>Confidence</th>\n",
       "      <th>Efforts</th>\n",
       "    </tr>\n",
       "  </thead>\n",
       "  <tbody>\n",
       "    <tr>\n",
       "      <th>0</th>\n",
       "      <td>Добавить два новых канала привлечения трафика, что позволит привлекать на 30% больше пользователей</td>\n",
       "      <td>3</td>\n",
       "      <td>10</td>\n",
       "      <td>8</td>\n",
       "      <td>6</td>\n",
       "    </tr>\n",
       "    <tr>\n",
       "      <th>1</th>\n",
       "      <td>Запустить собственную службу доставки, что сократит срок доставки заказов</td>\n",
       "      <td>2</td>\n",
       "      <td>5</td>\n",
       "      <td>4</td>\n",
       "      <td>10</td>\n",
       "    </tr>\n",
       "  </tbody>\n",
       "</table>\n",
       "</div>"
      ],
      "text/plain": [
       "                                                                                           Hypothesis  \\\n",
       "0  Добавить два новых канала привлечения трафика, что позволит привлекать на 30% больше пользователей   \n",
       "1                           Запустить собственную службу доставки, что сократит срок доставки заказов   \n",
       "\n",
       "   Reach  Impact  Confidence  Efforts  \n",
       "0      3      10           8        6  \n",
       "1      2       5           4       10  "
      ]
     },
     "metadata": {},
     "output_type": "display_data"
    },
    {
     "data": {
      "text/html": [
       "<div>\n",
       "<style scoped>\n",
       "    .dataframe tbody tr th:only-of-type {\n",
       "        vertical-align: middle;\n",
       "    }\n",
       "\n",
       "    .dataframe tbody tr th {\n",
       "        vertical-align: top;\n",
       "    }\n",
       "\n",
       "    .dataframe thead th {\n",
       "        text-align: right;\n",
       "    }\n",
       "</style>\n",
       "<table border=\"1\" class=\"dataframe\">\n",
       "  <thead>\n",
       "    <tr style=\"text-align: right;\">\n",
       "      <th></th>\n",
       "      <th>Hypothesis</th>\n",
       "      <th>Reach</th>\n",
       "      <th>Impact</th>\n",
       "      <th>Confidence</th>\n",
       "      <th>Efforts</th>\n",
       "    </tr>\n",
       "  </thead>\n",
       "  <tbody>\n",
       "    <tr>\n",
       "      <th>7</th>\n",
       "      <td>Добавить форму подписки на все основные страницы, чтобы собрать базу клиентов для email-рассылок</td>\n",
       "      <td>10</td>\n",
       "      <td>7</td>\n",
       "      <td>8</td>\n",
       "      <td>5</td>\n",
       "    </tr>\n",
       "    <tr>\n",
       "      <th>8</th>\n",
       "      <td>Запустить акцию, дающую скидку на товар в день рождения</td>\n",
       "      <td>1</td>\n",
       "      <td>9</td>\n",
       "      <td>9</td>\n",
       "      <td>5</td>\n",
       "    </tr>\n",
       "  </tbody>\n",
       "</table>\n",
       "</div>"
      ],
      "text/plain": [
       "                                                                                         Hypothesis  \\\n",
       "7  Добавить форму подписки на все основные страницы, чтобы собрать базу клиентов для email-рассылок   \n",
       "8                                           Запустить акцию, дающую скидку на товар в день рождения   \n",
       "\n",
       "   Reach  Impact  Confidence  Efforts  \n",
       "7     10       7           8        5  \n",
       "8      1       9           9        5  "
      ]
     },
     "metadata": {},
     "output_type": "display_data"
    },
    {
     "name": "stdout",
     "output_type": "stream",
     "text": [
      "_________________________________________________________________________________________________________\n",
      " \n",
      "\u001b[1m\u001b[32mЗапрос всех атрибутов\u001b[0m\n",
      " \n",
      "<class 'pandas.core.frame.DataFrame'>\n",
      "RangeIndex: 9 entries, 0 to 8\n",
      "Data columns (total 5 columns):\n",
      " #   Column      Non-Null Count  Dtype \n",
      "---  ------      --------------  ----- \n",
      " 0   Hypothesis  9 non-null      object\n",
      " 1   Reach       9 non-null      int64 \n",
      " 2   Impact      9 non-null      int64 \n",
      " 3   Confidence  9 non-null      int64 \n",
      " 4   Efforts     9 non-null      int64 \n",
      "dtypes: int64(4), object(1)\n",
      "memory usage: 488.0+ bytes\n",
      "None\n",
      "_________________________________________________________________________________________________________\n",
      " \n",
      "\u001b[1m\u001b[32mЧисловое описание данных\u001b[0m\n",
      " \n",
      "            count  mean  std  min  25%  50%  75%   max\n",
      "Reach         9.0   4.8  3.2  1.0  3.0  3.0  8.0  10.0\n",
      "Impact        9.0   4.8  3.2  1.0  3.0  3.0  7.0  10.0\n",
      "Confidence    9.0   5.6  3.0  1.0  3.0  7.0  8.0   9.0\n",
      "Efforts       9.0   4.9  2.8  1.0  3.0  5.0  6.0  10.0\n",
      "_________________________________________________________________________________________________________\n",
      " \n",
      "\u001b[1m\u001b[32mПропущенные значения\u001b[0m\n",
      " \n",
      "            pass  perc, %\n",
      "Hypothesis     0      0.0\n",
      "Reach          0      0.0\n",
      "Impact         0      0.0\n",
      "Confidence     0      0.0\n",
      "Efforts        0      0.0\n",
      "_________________________________________________________________________________________________________\n",
      " \n",
      "\u001b[1m\u001b[32mКоличество явных дубликатов\u001b[0m\n",
      " \n",
      "0\n",
      "_________________________________________________________________________________________________________\n",
      " \n",
      "\u001b[1m\u001b[32mОбщая обзорная гистограмма для столбцов с числовыми данными\u001b[0m\n",
      " \n"
     ]
    },
    {
     "data": {
      "image/png": "[encoded data removed]",
      "text/plain": [
       "<Figure size 1000x500 with 4 Axes>"
      ]
     },
     "metadata": {},
     "output_type": "display_data"
    },
    {
     "name": "stdout",
     "output_type": "stream",
     "text": [
      "_________________________________________________________________________________________________________\n"
     ]
    }
   ],
   "source": [
    "df_analysis(hypothesis) # применение функции к нужному датафрейму"
   ]
  },
  {
   "cell_type": "code",
   "execution_count": 78,
   "metadata": {},
   "outputs": [
    {
     "data": {
      "text/html": [
       "<div>\n",
       "<style scoped>\n",
       "    .dataframe tbody tr th:only-of-type {\n",
       "        vertical-align: middle;\n",
       "    }\n",
       "\n",
       "    .dataframe tbody tr th {\n",
       "        vertical-align: top;\n",
       "    }\n",
       "\n",
       "    .dataframe thead th {\n",
       "        text-align: right;\n",
       "    }\n",
       "</style>\n",
       "<table border=\"1\" class=\"dataframe\">\n",
       "  <thead>\n",
       "    <tr style=\"text-align: right;\">\n",
       "      <th></th>\n",
       "      <th>Hypothesis</th>\n",
       "      <th>Reach</th>\n",
       "      <th>Impact</th>\n",
       "      <th>Confidence</th>\n",
       "      <th>Efforts</th>\n",
       "    </tr>\n",
       "  </thead>\n",
       "  <tbody>\n",
       "    <tr>\n",
       "      <th>0</th>\n",
       "      <td>Добавить два новых канала привлечения трафика, что позволит привлекать на 30% больше пользователей</td>\n",
       "      <td>3</td>\n",
       "      <td>10</td>\n",
       "      <td>8</td>\n",
       "      <td>6</td>\n",
       "    </tr>\n",
       "    <tr>\n",
       "      <th>1</th>\n",
       "      <td>Запустить собственную службу доставки, что сократит срок доставки заказов</td>\n",
       "      <td>2</td>\n",
       "      <td>5</td>\n",
       "      <td>4</td>\n",
       "      <td>10</td>\n",
       "    </tr>\n",
       "    <tr>\n",
       "      <th>2</th>\n",
       "      <td>Добавить блоки рекомендаций товаров на сайт интернет магазина, чтобы повысить конверсию и средний чек заказа</td>\n",
       "      <td>8</td>\n",
       "      <td>3</td>\n",
       "      <td>7</td>\n",
       "      <td>3</td>\n",
       "    </tr>\n",
       "    <tr>\n",
       "      <th>3</th>\n",
       "      <td>Изменить структура категорий, что увеличит конверсию, т.к. пользователи быстрее найдут нужный товар</td>\n",
       "      <td>8</td>\n",
       "      <td>3</td>\n",
       "      <td>3</td>\n",
       "      <td>8</td>\n",
       "    </tr>\n",
       "    <tr>\n",
       "      <th>4</th>\n",
       "      <td>Изменить цвет фона главной страницы, чтобы увеличить вовлеченность пользователей</td>\n",
       "      <td>3</td>\n",
       "      <td>1</td>\n",
       "      <td>1</td>\n",
       "      <td>1</td>\n",
       "    </tr>\n",
       "    <tr>\n",
       "      <th>5</th>\n",
       "      <td>Добавить страницу отзывов клиентов о магазине, что позволит увеличить количество заказов</td>\n",
       "      <td>3</td>\n",
       "      <td>2</td>\n",
       "      <td>2</td>\n",
       "      <td>3</td>\n",
       "    </tr>\n",
       "    <tr>\n",
       "      <th>6</th>\n",
       "      <td>Показать на главной странице баннеры с актуальными акциями и распродажами, чтобы увеличить конверсию</td>\n",
       "      <td>5</td>\n",
       "      <td>3</td>\n",
       "      <td>8</td>\n",
       "      <td>3</td>\n",
       "    </tr>\n",
       "    <tr>\n",
       "      <th>7</th>\n",
       "      <td>Добавить форму подписки на все основные страницы, чтобы собрать базу клиентов для email-рассылок</td>\n",
       "      <td>10</td>\n",
       "      <td>7</td>\n",
       "      <td>8</td>\n",
       "      <td>5</td>\n",
       "    </tr>\n",
       "    <tr>\n",
       "      <th>8</th>\n",
       "      <td>Запустить акцию, дающую скидку на товар в день рождения</td>\n",
       "      <td>1</td>\n",
       "      <td>9</td>\n",
       "      <td>9</td>\n",
       "      <td>5</td>\n",
       "    </tr>\n",
       "  </tbody>\n",
       "</table>\n",
       "</div>"
      ],
      "text/plain": [
       "                                                                                                     Hypothesis  \\\n",
       "0            Добавить два новых канала привлечения трафика, что позволит привлекать на 30% больше пользователей   \n",
       "1                                     Запустить собственную службу доставки, что сократит срок доставки заказов   \n",
       "2  Добавить блоки рекомендаций товаров на сайт интернет магазина, чтобы повысить конверсию и средний чек заказа   \n",
       "3           Изменить структура категорий, что увеличит конверсию, т.к. пользователи быстрее найдут нужный товар   \n",
       "4                              Изменить цвет фона главной страницы, чтобы увеличить вовлеченность пользователей   \n",
       "5                      Добавить страницу отзывов клиентов о магазине, что позволит увеличить количество заказов   \n",
       "6          Показать на главной странице баннеры с актуальными акциями и распродажами, чтобы увеличить конверсию   \n",
       "7              Добавить форму подписки на все основные страницы, чтобы собрать базу клиентов для email-рассылок   \n",
       "8                                                       Запустить акцию, дающую скидку на товар в день рождения   \n",
       "\n",
       "   Reach  Impact  Confidence  Efforts  \n",
       "0      3      10           8        6  \n",
       "1      2       5           4       10  \n",
       "2      8       3           7        3  \n",
       "3      8       3           3        8  \n",
       "4      3       1           1        1  \n",
       "5      3       2           2        3  \n",
       "6      5       3           8        3  \n",
       "7     10       7           8        5  \n",
       "8      1       9           9        5  "
      ]
     },
     "metadata": {},
     "output_type": "display_data"
    }
   ],
   "source": [
    "display(hypothesis.head(9)) # вывод всех строк таблицы с заголовками "
   ]
  },
  {
   "cell_type": "markdown",
   "metadata": {},
   "source": [
    "**Вывод по hypothesis:**  \n",
    "  \n",
    "- заголовки необходимо привести к нижнему регистру\n",
    "- исходя из имеющихся данных, доступна приоритизация способом ICE и RICE  \n",
    "- оценка параметров по 10-ти балльной шкале\n",
    "- компоненты:  \n",
    "  **Reach** — скольких пользователей затронет изменение, которое нужно внести;  \n",
    "  **Impact** — насколько сильно изменение повлияет на пользователей, их опыт и удовлетворение от продукта;  \n",
    "  **Confidence** — насколько вы уверены, что это изменение повлияет на пользователей именно так;  \n",
    "  **Efforts** — стоимость тестирования гипотезы. "
   ]
  },
  {
   "cell_type": "markdown",
   "metadata": {},
   "source": [
    "#### Датафрейм 'orders' "
   ]
  },
  {
   "cell_type": "code",
   "execution_count": 7,
   "metadata": {
    "scrolled": false
   },
   "outputs": [
    {
     "name": "stdout",
     "output_type": "stream",
     "text": [
      "_________________________________________________________________________________________________________\n",
      " \n",
      "\u001b[1m\u001b[32mВывод 2 строк таблицы с начала и с конца с заголовками\u001b[0m\n"
     ]
    },
    {
     "data": {
      "text/html": [
       "<div>\n",
       "<style scoped>\n",
       "    .dataframe tbody tr th:only-of-type {\n",
       "        vertical-align: middle;\n",
       "    }\n",
       "\n",
       "    .dataframe tbody tr th {\n",
       "        vertical-align: top;\n",
       "    }\n",
       "\n",
       "    .dataframe thead th {\n",
       "        text-align: right;\n",
       "    }\n",
       "</style>\n",
       "<table border=\"1\" class=\"dataframe\">\n",
       "  <thead>\n",
       "    <tr style=\"text-align: right;\">\n",
       "      <th></th>\n",
       "      <th>transactionId</th>\n",
       "      <th>visitorId</th>\n",
       "      <th>date</th>\n",
       "      <th>revenue</th>\n",
       "      <th>group</th>\n",
       "    </tr>\n",
       "  </thead>\n",
       "  <tbody>\n",
       "    <tr>\n",
       "      <th>0</th>\n",
       "      <td>3667963787</td>\n",
       "      <td>3312258926</td>\n",
       "      <td>2019-08-15</td>\n",
       "      <td>1650</td>\n",
       "      <td>B</td>\n",
       "    </tr>\n",
       "    <tr>\n",
       "      <th>1</th>\n",
       "      <td>2804400009</td>\n",
       "      <td>3642806036</td>\n",
       "      <td>2019-08-15</td>\n",
       "      <td>730</td>\n",
       "      <td>B</td>\n",
       "    </tr>\n",
       "  </tbody>\n",
       "</table>\n",
       "</div>"
      ],
      "text/plain": [
       "   transactionId   visitorId        date  revenue group\n",
       "0     3667963787  3312258926  2019-08-15     1650     B\n",
       "1     2804400009  3642806036  2019-08-15      730     B"
      ]
     },
     "metadata": {},
     "output_type": "display_data"
    },
    {
     "data": {
      "text/html": [
       "<div>\n",
       "<style scoped>\n",
       "    .dataframe tbody tr th:only-of-type {\n",
       "        vertical-align: middle;\n",
       "    }\n",
       "\n",
       "    .dataframe tbody tr th {\n",
       "        vertical-align: top;\n",
       "    }\n",
       "\n",
       "    .dataframe thead th {\n",
       "        text-align: right;\n",
       "    }\n",
       "</style>\n",
       "<table border=\"1\" class=\"dataframe\">\n",
       "  <thead>\n",
       "    <tr style=\"text-align: right;\">\n",
       "      <th></th>\n",
       "      <th>transactionId</th>\n",
       "      <th>visitorId</th>\n",
       "      <th>date</th>\n",
       "      <th>revenue</th>\n",
       "      <th>group</th>\n",
       "    </tr>\n",
       "  </thead>\n",
       "  <tbody>\n",
       "    <tr>\n",
       "      <th>1195</th>\n",
       "      <td>1947021204</td>\n",
       "      <td>1614305549</td>\n",
       "      <td>2019-08-14</td>\n",
       "      <td>100</td>\n",
       "      <td>A</td>\n",
       "    </tr>\n",
       "    <tr>\n",
       "      <th>1196</th>\n",
       "      <td>3936777065</td>\n",
       "      <td>2108080724</td>\n",
       "      <td>2019-08-15</td>\n",
       "      <td>202740</td>\n",
       "      <td>B</td>\n",
       "    </tr>\n",
       "  </tbody>\n",
       "</table>\n",
       "</div>"
      ],
      "text/plain": [
       "      transactionId   visitorId        date  revenue group\n",
       "1195     1947021204  1614305549  2019-08-14      100     A\n",
       "1196     3936777065  2108080724  2019-08-15   202740     B"
      ]
     },
     "metadata": {},
     "output_type": "display_data"
    },
    {
     "name": "stdout",
     "output_type": "stream",
     "text": [
      "_________________________________________________________________________________________________________\n",
      " \n",
      "\u001b[1m\u001b[32mЗапрос всех атрибутов\u001b[0m\n",
      " \n",
      "<class 'pandas.core.frame.DataFrame'>\n",
      "RangeIndex: 1197 entries, 0 to 1196\n",
      "Data columns (total 5 columns):\n",
      " #   Column         Non-Null Count  Dtype \n",
      "---  ------         --------------  ----- \n",
      " 0   transactionId  1197 non-null   int64 \n",
      " 1   visitorId      1197 non-null   int64 \n",
      " 2   date           1197 non-null   object\n",
      " 3   revenue        1197 non-null   int64 \n",
      " 4   group          1197 non-null   object\n",
      "dtypes: int64(3), object(2)\n",
      "memory usage: 46.9+ KB\n",
      "None\n",
      "_________________________________________________________________________________________________________\n",
      " \n",
      "\u001b[1m\u001b[32mЧисловое описание данных\u001b[0m\n",
      " \n",
      "                count          mean           std        min           25%  \\\n",
      "transactionId  1197.0  2.155621e+09  1.229085e+09  1062393.0  1.166776e+09   \n",
      "visitorId      1197.0  2.165960e+09  1.236014e+09  5114589.0  1.111826e+09   \n",
      "revenue        1197.0  8.348000e+03  3.919110e+04       50.0  1.220000e+03   \n",
      "\n",
      "                        50%           75%           max  \n",
      "transactionId  2.145194e+09  3.237740e+09  4.293856e+09  \n",
      "visitorId      2.217985e+09  3.177606e+09  4.283872e+09  \n",
      "revenue        2.978000e+03  8.290000e+03  1.294500e+06  \n",
      "_________________________________________________________________________________________________________\n",
      " \n",
      "\u001b[1m\u001b[32mПропущенные значения\u001b[0m\n",
      " \n",
      "               pass  perc, %\n",
      "transactionId     0      0.0\n",
      "visitorId         0      0.0\n",
      "date              0      0.0\n",
      "revenue           0      0.0\n",
      "group             0      0.0\n",
      "_________________________________________________________________________________________________________\n",
      " \n",
      "\u001b[1m\u001b[32mКоличество явных дубликатов\u001b[0m\n",
      " \n",
      "0\n",
      "_________________________________________________________________________________________________________\n",
      " \n",
      "\u001b[1m\u001b[32mОбщая обзорная гистограмма для столбцов с числовыми данными\u001b[0m\n",
      " \n"
     ]
    },
    {
     "data": {
      "image/png": "[encoded data removed]",
      "text/plain": [
       "<Figure size 1000x500 with 4 Axes>"
      ]
     },
     "metadata": {},
     "output_type": "display_data"
    },
    {
     "name": "stdout",
     "output_type": "stream",
     "text": [
      "_________________________________________________________________________________________________________\n"
     ]
    }
   ],
   "source": [
    "df_analysis(orders) # применение функции к нужному датафрейму"
   ]
  },
  {
   "cell_type": "markdown",
   "metadata": {},
   "source": [
    "**Вывод по orders:**  \n",
    "  \n",
    "- явные дубликаты отсутствуют\n",
    "- пропущенные значения отсутствуют\n",
    "- date преобразовать к формату datetime"
   ]
  },
  {
   "cell_type": "markdown",
   "metadata": {},
   "source": [
    "#### Датафрейм 'visitors' "
   ]
  },
  {
   "cell_type": "code",
   "execution_count": 12,
   "metadata": {},
   "outputs": [
    {
     "name": "stdout",
     "output_type": "stream",
     "text": [
      "_________________________________________________________________________________________________________\n",
      " \n",
      "\u001b[1m\u001b[32mВывод 2 строк таблицы с начала и с конца с заголовками\u001b[0m\n"
     ]
    },
    {
     "data": {
      "text/html": [
       "<div>\n",
       "<style scoped>\n",
       "    .dataframe tbody tr th:only-of-type {\n",
       "        vertical-align: middle;\n",
       "    }\n",
       "\n",
       "    .dataframe tbody tr th {\n",
       "        vertical-align: top;\n",
       "    }\n",
       "\n",
       "    .dataframe thead th {\n",
       "        text-align: right;\n",
       "    }\n",
       "</style>\n",
       "<table border=\"1\" class=\"dataframe\">\n",
       "  <thead>\n",
       "    <tr style=\"text-align: right;\">\n",
       "      <th></th>\n",
       "      <th>date</th>\n",
       "      <th>group</th>\n",
       "      <th>visitors</th>\n",
       "    </tr>\n",
       "  </thead>\n",
       "  <tbody>\n",
       "    <tr>\n",
       "      <th>0</th>\n",
       "      <td>2019-08-01</td>\n",
       "      <td>A</td>\n",
       "      <td>719</td>\n",
       "    </tr>\n",
       "    <tr>\n",
       "      <th>1</th>\n",
       "      <td>2019-08-02</td>\n",
       "      <td>A</td>\n",
       "      <td>619</td>\n",
       "    </tr>\n",
       "  </tbody>\n",
       "</table>\n",
       "</div>"
      ],
      "text/plain": [
       "         date group  visitors\n",
       "0  2019-08-01     A       719\n",
       "1  2019-08-02     A       619"
      ]
     },
     "metadata": {},
     "output_type": "display_data"
    },
    {
     "data": {
      "text/html": [
       "<div>\n",
       "<style scoped>\n",
       "    .dataframe tbody tr th:only-of-type {\n",
       "        vertical-align: middle;\n",
       "    }\n",
       "\n",
       "    .dataframe tbody tr th {\n",
       "        vertical-align: top;\n",
       "    }\n",
       "\n",
       "    .dataframe thead th {\n",
       "        text-align: right;\n",
       "    }\n",
       "</style>\n",
       "<table border=\"1\" class=\"dataframe\">\n",
       "  <thead>\n",
       "    <tr style=\"text-align: right;\">\n",
       "      <th></th>\n",
       "      <th>date</th>\n",
       "      <th>group</th>\n",
       "      <th>visitors</th>\n",
       "    </tr>\n",
       "  </thead>\n",
       "  <tbody>\n",
       "    <tr>\n",
       "      <th>60</th>\n",
       "      <td>2019-08-30</td>\n",
       "      <td>B</td>\n",
       "      <td>490</td>\n",
       "    </tr>\n",
       "    <tr>\n",
       "      <th>61</th>\n",
       "      <td>2019-08-31</td>\n",
       "      <td>B</td>\n",
       "      <td>718</td>\n",
       "    </tr>\n",
       "  </tbody>\n",
       "</table>\n",
       "</div>"
      ],
      "text/plain": [
       "          date group  visitors\n",
       "60  2019-08-30     B       490\n",
       "61  2019-08-31     B       718"
      ]
     },
     "metadata": {},
     "output_type": "display_data"
    },
    {
     "name": "stdout",
     "output_type": "stream",
     "text": [
      "_________________________________________________________________________________________________________\n",
      " \n",
      "\u001b[1m\u001b[32mЗапрос всех атрибутов\u001b[0m\n",
      " \n",
      "<class 'pandas.core.frame.DataFrame'>\n",
      "RangeIndex: 62 entries, 0 to 61\n",
      "Data columns (total 3 columns):\n",
      " #   Column    Non-Null Count  Dtype \n",
      "---  ------    --------------  ----- \n",
      " 0   date      62 non-null     object\n",
      " 1   group     62 non-null     object\n",
      " 2   visitors  62 non-null     int64 \n",
      "dtypes: int64(1), object(2)\n",
      "memory usage: 1.6+ KB\n",
      "None\n",
      "_________________________________________________________________________________________________________\n",
      " \n",
      "\u001b[1m\u001b[32mЧисловое описание данных\u001b[0m\n",
      " \n",
      "          count   mean    std    min    25%    50%    75%    max\n",
      "visitors   62.0  607.3  114.4  361.0  534.0  624.5  710.5  770.0\n",
      "_________________________________________________________________________________________________________\n",
      " \n",
      "\u001b[1m\u001b[32mПропущенные значения\u001b[0m\n",
      " \n",
      "          pass  perc, %\n",
      "date         0      0.0\n",
      "group        0      0.0\n",
      "visitors     0      0.0\n",
      "_________________________________________________________________________________________________________\n",
      " \n",
      "\u001b[1m\u001b[32mКоличество явных дубликатов\u001b[0m\n",
      " \n",
      "0\n",
      "_________________________________________________________________________________________________________\n",
      " \n",
      "\u001b[1m\u001b[32mОбщая обзорная гистограмма для столбцов с числовыми данными\u001b[0m\n",
      " \n"
     ]
    },
    {
     "data": {
      "image/png": "[encoded data removed]",
      "text/plain": [
       "<Figure size 1000x500 with 1 Axes>"
      ]
     },
     "metadata": {},
     "output_type": "display_data"
    },
    {
     "name": "stdout",
     "output_type": "stream",
     "text": [
      "_________________________________________________________________________________________________________\n"
     ]
    }
   ],
   "source": [
    "df_analysis(visitors) # применение функции к нужному датафрейму"
   ]
  },
  {
   "cell_type": "markdown",
   "metadata": {},
   "source": [
    "**Вывод по visitors:**  \n",
    "  \n",
    "- явные дубликаты отсутствуют\n",
    "- пропущенные значения отсутствуют\n",
    "- date преобразовать к формату datetime"
   ]
  },
  {
   "cell_type": "markdown",
   "metadata": {},
   "source": [
    "### Подготовка данных."
   ]
  },
  {
   "cell_type": "code",
   "execution_count": 88,
   "metadata": {},
   "outputs": [
    {
     "data": {
      "text/plain": [
       "Index(['hypothesis', 'reach', 'impact', 'confidence', 'efforts'], dtype='object')"
      ]
     },
     "execution_count": 88,
     "metadata": {},
     "output_type": "execute_result"
    }
   ],
   "source": [
    "hypothesis.columns = hypothesis.columns.str.lower()  # приведение к нижнему регистру\n",
    "hypothesis.columns # список названий всех столбцов - проверка"
   ]
  },
  {
   "cell_type": "code",
   "execution_count": 89,
   "metadata": {},
   "outputs": [],
   "source": [
    "# преобразование данных о времени\n",
    "#orders['date'] = pd.to_datetime(orders['date'])\n",
    "orders['date'] = orders['date'].astype(\"datetime64[ns]\")\n",
    "#visitors['date'] = pd.to_datetime(visitors['date'])\n",
    "visitors['date'] = visitors['date'].astype(\"datetime64[ns]\")"
   ]
  },
  {
   "cell_type": "code",
   "execution_count": 90,
   "metadata": {},
   "outputs": [
    {
     "name": "stdout",
     "output_type": "stream",
     "text": [
      "<class 'pandas.core.frame.DataFrame'>\n",
      "RangeIndex: 1197 entries, 0 to 1196\n",
      "Data columns (total 5 columns):\n",
      " #   Column         Non-Null Count  Dtype         \n",
      "---  ------         --------------  -----         \n",
      " 0   transactionId  1197 non-null   int64         \n",
      " 1   visitorId      1197 non-null   int64         \n",
      " 2   date           1197 non-null   datetime64[ns]\n",
      " 3   revenue        1197 non-null   int64         \n",
      " 4   group          1197 non-null   object        \n",
      "dtypes: datetime64[ns](1), int64(3), object(1)\n",
      "memory usage: 46.9+ KB\n"
     ]
    },
    {
     "data": {
      "text/html": [
       "<div>\n",
       "<style scoped>\n",
       "    .dataframe tbody tr th:only-of-type {\n",
       "        vertical-align: middle;\n",
       "    }\n",
       "\n",
       "    .dataframe tbody tr th {\n",
       "        vertical-align: top;\n",
       "    }\n",
       "\n",
       "    .dataframe thead th {\n",
       "        text-align: right;\n",
       "    }\n",
       "</style>\n",
       "<table border=\"1\" class=\"dataframe\">\n",
       "  <thead>\n",
       "    <tr style=\"text-align: right;\">\n",
       "      <th></th>\n",
       "      <th>transactionId</th>\n",
       "      <th>visitorId</th>\n",
       "      <th>date</th>\n",
       "      <th>revenue</th>\n",
       "      <th>group</th>\n",
       "    </tr>\n",
       "  </thead>\n",
       "  <tbody>\n",
       "    <tr>\n",
       "      <th>0</th>\n",
       "      <td>3667963787</td>\n",
       "      <td>3312258926</td>\n",
       "      <td>2019-08-15</td>\n",
       "      <td>1650</td>\n",
       "      <td>B</td>\n",
       "    </tr>\n",
       "  </tbody>\n",
       "</table>\n",
       "</div>"
      ],
      "text/plain": [
       "   transactionId   visitorId       date  revenue group\n",
       "0     3667963787  3312258926 2019-08-15     1650     B"
      ]
     },
     "metadata": {},
     "output_type": "display_data"
    },
    {
     "name": "stdout",
     "output_type": "stream",
     "text": [
      "\n",
      "<class 'pandas.core.frame.DataFrame'>\n",
      "RangeIndex: 62 entries, 0 to 61\n",
      "Data columns (total 3 columns):\n",
      " #   Column    Non-Null Count  Dtype         \n",
      "---  ------    --------------  -----         \n",
      " 0   date      62 non-null     datetime64[ns]\n",
      " 1   group     62 non-null     object        \n",
      " 2   visitors  62 non-null     int64         \n",
      "dtypes: datetime64[ns](1), int64(1), object(1)\n",
      "memory usage: 1.6+ KB\n"
     ]
    },
    {
     "data": {
      "text/html": [
       "<div>\n",
       "<style scoped>\n",
       "    .dataframe tbody tr th:only-of-type {\n",
       "        vertical-align: middle;\n",
       "    }\n",
       "\n",
       "    .dataframe tbody tr th {\n",
       "        vertical-align: top;\n",
       "    }\n",
       "\n",
       "    .dataframe thead th {\n",
       "        text-align: right;\n",
       "    }\n",
       "</style>\n",
       "<table border=\"1\" class=\"dataframe\">\n",
       "  <thead>\n",
       "    <tr style=\"text-align: right;\">\n",
       "      <th></th>\n",
       "      <th>date</th>\n",
       "      <th>group</th>\n",
       "      <th>visitors</th>\n",
       "    </tr>\n",
       "  </thead>\n",
       "  <tbody>\n",
       "    <tr>\n",
       "      <th>0</th>\n",
       "      <td>2019-08-01</td>\n",
       "      <td>A</td>\n",
       "      <td>719</td>\n",
       "    </tr>\n",
       "  </tbody>\n",
       "</table>\n",
       "</div>"
      ],
      "text/plain": [
       "        date group  visitors\n",
       "0 2019-08-01     A       719"
      ]
     },
     "metadata": {},
     "output_type": "display_data"
    },
    {
     "name": "stdout",
     "output_type": "stream",
     "text": [
      "\n"
     ]
    }
   ],
   "source": [
    "# проверка изменений\n",
    "orders.info()\n",
    "display(orders.head(1))\n",
    "print()\n",
    "visitors.info()\n",
    "display(visitors.head(1))\n",
    "print()"
   ]
  },
  {
   "cell_type": "code",
   "execution_count": 91,
   "metadata": {},
   "outputs": [
    {
     "data": {
      "text/plain": [
       "'Заказы. Начальная дата 2019-08-01 00:00:00, конечная дата 2019-08-31 00:00:00'"
      ]
     },
     "metadata": {},
     "output_type": "display_data"
    },
    {
     "name": "stdout",
     "output_type": "stream",
     "text": [
      "\n",
      "Посетители. Начальная дата 2019-08-01 00:00:00, конечная дата 2019-08-31 00:00:00\n",
      "\n"
     ]
    }
   ],
   "source": [
    "# сводка из таблиц по датам проведения теста\n",
    "display('Заказы. Начальная дата {}, конечная дата {}'.format(orders['date'].min(), orders['date'].max()))\n",
    "print('\\nПосетители. Начальная дата {}, конечная дата {}\\n'.format(visitors['date'].min(), visitors['date'].max()))"
   ]
  },
  {
   "cell_type": "markdown",
   "metadata": {},
   "source": [
    "### Вывод по блоку: \n",
    "- Данные подготовлены к работе \n",
    "- Преобразованы форматы дат к datetime64[ns] \n",
    "- Временной период в таблицах представлен одинаковый\n",
    "- Пропущенных значений нет  \n",
    "- Дубликатов нет  "
   ]
  },
  {
   "cell_type": "markdown",
   "metadata": {},
   "source": [
    "# Часть 1. Приоритизация гипотез."
   ]
  },
  {
   "cell_type": "markdown",
   "metadata": {},
   "source": [
    "## Применение структуры ICE для приоритизации гипотез."
   ]
  },
  {
   "cell_type": "code",
   "execution_count": 92,
   "metadata": {
    "scrolled": true
   },
   "outputs": [
    {
     "data": {
      "text/html": [
       "<style  type=\"text/css\" >\n",
       "</style><table id=\"T_4864b_\" ><thead>    <tr>        <th class=\"blank level0\" ></th>        <th class=\"col_heading level0 col0\" >hypothesis</th>        <th class=\"col_heading level0 col1\" >ICE</th>    </tr></thead><tbody>\n",
       "                <tr>\n",
       "                        <th id=\"T_4864b_level0_row0\" class=\"row_heading level0 row0\" >8</th>\n",
       "                        <td id=\"T_4864b_row0_col0\" class=\"data row0 col0\" >Запустить акцию, дающую скидку на товар в день рождения</td>\n",
       "                        <td id=\"T_4864b_row0_col1\" class=\"data row0 col1\" >16.2</td>\n",
       "            </tr>\n",
       "            <tr>\n",
       "                        <th id=\"T_4864b_level0_row1\" class=\"row_heading level0 row1\" >0</th>\n",
       "                        <td id=\"T_4864b_row1_col0\" class=\"data row1 col0\" >Добавить два новых канала привлечения трафика, что позволит привлекать на 30% больше пользователей</td>\n",
       "                        <td id=\"T_4864b_row1_col1\" class=\"data row1 col1\" >13.3</td>\n",
       "            </tr>\n",
       "            <tr>\n",
       "                        <th id=\"T_4864b_level0_row2\" class=\"row_heading level0 row2\" >7</th>\n",
       "                        <td id=\"T_4864b_row2_col0\" class=\"data row2 col0\" >Добавить форму подписки на все основные страницы, чтобы собрать базу клиентов для email-рассылок</td>\n",
       "                        <td id=\"T_4864b_row2_col1\" class=\"data row2 col1\" >11.2</td>\n",
       "            </tr>\n",
       "            <tr>\n",
       "                        <th id=\"T_4864b_level0_row3\" class=\"row_heading level0 row3\" >6</th>\n",
       "                        <td id=\"T_4864b_row3_col0\" class=\"data row3 col0\" >Показать на главной странице баннеры с актуальными акциями и распродажами, чтобы увеличить конверсию</td>\n",
       "                        <td id=\"T_4864b_row3_col1\" class=\"data row3 col1\" >8.0</td>\n",
       "            </tr>\n",
       "            <tr>\n",
       "                        <th id=\"T_4864b_level0_row4\" class=\"row_heading level0 row4\" >2</th>\n",
       "                        <td id=\"T_4864b_row4_col0\" class=\"data row4 col0\" >Добавить блоки рекомендаций товаров на сайт интернет магазина, чтобы повысить конверсию и средний чек заказа</td>\n",
       "                        <td id=\"T_4864b_row4_col1\" class=\"data row4 col1\" >7.0</td>\n",
       "            </tr>\n",
       "            <tr>\n",
       "                        <th id=\"T_4864b_level0_row5\" class=\"row_heading level0 row5\" >1</th>\n",
       "                        <td id=\"T_4864b_row5_col0\" class=\"data row5 col0\" >Запустить собственную службу доставки, что сократит срок доставки заказов</td>\n",
       "                        <td id=\"T_4864b_row5_col1\" class=\"data row5 col1\" >2.0</td>\n",
       "            </tr>\n",
       "            <tr>\n",
       "                        <th id=\"T_4864b_level0_row6\" class=\"row_heading level0 row6\" >5</th>\n",
       "                        <td id=\"T_4864b_row6_col0\" class=\"data row6 col0\" >Добавить страницу отзывов клиентов о магазине, что позволит увеличить количество заказов</td>\n",
       "                        <td id=\"T_4864b_row6_col1\" class=\"data row6 col1\" >1.3</td>\n",
       "            </tr>\n",
       "            <tr>\n",
       "                        <th id=\"T_4864b_level0_row7\" class=\"row_heading level0 row7\" >3</th>\n",
       "                        <td id=\"T_4864b_row7_col0\" class=\"data row7 col0\" >Изменить структура категорий, что увеличит конверсию, т.к. пользователи быстрее найдут нужный товар</td>\n",
       "                        <td id=\"T_4864b_row7_col1\" class=\"data row7 col1\" >1.1</td>\n",
       "            </tr>\n",
       "            <tr>\n",
       "                        <th id=\"T_4864b_level0_row8\" class=\"row_heading level0 row8\" >4</th>\n",
       "                        <td id=\"T_4864b_row8_col0\" class=\"data row8 col0\" >Изменить цвет фона главной страницы, чтобы увеличить вовлеченность пользователей</td>\n",
       "                        <td id=\"T_4864b_row8_col1\" class=\"data row8 col1\" >1.0</td>\n",
       "            </tr>\n",
       "    </tbody></table>"
      ],
      "text/plain": [
       "<pandas.io.formats.style.Styler at 0x7f1866eeabb0>"
      ]
     },
     "metadata": {},
     "output_type": "display_data"
    }
   ],
   "source": [
    "hypothesis['ICE'] = (hypothesis['impact'] * hypothesis['confidence']) / hypothesis['efforts']\n",
    "display(hypothesis[['hypothesis', 'ICE']].sort_values(by='ICE', ascending=False).style.format({'ICE': '{:.1f}'})) "
   ]
  },
  {
   "cell_type": "markdown",
   "metadata": {},
   "source": [
    "## Применение структуры RICE для приоритизации гипотез."
   ]
  },
  {
   "cell_type": "code",
   "execution_count": 93,
   "metadata": {},
   "outputs": [
    {
     "data": {
      "text/html": [
       "<div>\n",
       "<style scoped>\n",
       "    .dataframe tbody tr th:only-of-type {\n",
       "        vertical-align: middle;\n",
       "    }\n",
       "\n",
       "    .dataframe tbody tr th {\n",
       "        vertical-align: top;\n",
       "    }\n",
       "\n",
       "    .dataframe thead th {\n",
       "        text-align: right;\n",
       "    }\n",
       "</style>\n",
       "<table border=\"1\" class=\"dataframe\">\n",
       "  <thead>\n",
       "    <tr style=\"text-align: right;\">\n",
       "      <th></th>\n",
       "      <th>hypothesis</th>\n",
       "      <th>RICE</th>\n",
       "    </tr>\n",
       "  </thead>\n",
       "  <tbody>\n",
       "    <tr>\n",
       "      <th>7</th>\n",
       "      <td>Добавить форму подписки на все основные страницы, чтобы собрать базу клиентов для email-рассылок</td>\n",
       "      <td>112.0</td>\n",
       "    </tr>\n",
       "    <tr>\n",
       "      <th>2</th>\n",
       "      <td>Добавить блоки рекомендаций товаров на сайт интернет магазина, чтобы повысить конверсию и средний чек заказа</td>\n",
       "      <td>56.0</td>\n",
       "    </tr>\n",
       "    <tr>\n",
       "      <th>0</th>\n",
       "      <td>Добавить два новых канала привлечения трафика, что позволит привлекать на 30% больше пользователей</td>\n",
       "      <td>40.0</td>\n",
       "    </tr>\n",
       "    <tr>\n",
       "      <th>6</th>\n",
       "      <td>Показать на главной странице баннеры с актуальными акциями и распродажами, чтобы увеличить конверсию</td>\n",
       "      <td>40.0</td>\n",
       "    </tr>\n",
       "    <tr>\n",
       "      <th>8</th>\n",
       "      <td>Запустить акцию, дающую скидку на товар в день рождения</td>\n",
       "      <td>16.2</td>\n",
       "    </tr>\n",
       "    <tr>\n",
       "      <th>3</th>\n",
       "      <td>Изменить структура категорий, что увеличит конверсию, т.к. пользователи быстрее найдут нужный товар</td>\n",
       "      <td>9.0</td>\n",
       "    </tr>\n",
       "    <tr>\n",
       "      <th>1</th>\n",
       "      <td>Запустить собственную службу доставки, что сократит срок доставки заказов</td>\n",
       "      <td>4.0</td>\n",
       "    </tr>\n",
       "    <tr>\n",
       "      <th>5</th>\n",
       "      <td>Добавить страницу отзывов клиентов о магазине, что позволит увеличить количество заказов</td>\n",
       "      <td>4.0</td>\n",
       "    </tr>\n",
       "    <tr>\n",
       "      <th>4</th>\n",
       "      <td>Изменить цвет фона главной страницы, чтобы увеличить вовлеченность пользователей</td>\n",
       "      <td>3.0</td>\n",
       "    </tr>\n",
       "  </tbody>\n",
       "</table>\n",
       "</div>"
      ],
      "text/plain": [
       "                                                                                                     hypothesis  \\\n",
       "7              Добавить форму подписки на все основные страницы, чтобы собрать базу клиентов для email-рассылок   \n",
       "2  Добавить блоки рекомендаций товаров на сайт интернет магазина, чтобы повысить конверсию и средний чек заказа   \n",
       "0            Добавить два новых канала привлечения трафика, что позволит привлекать на 30% больше пользователей   \n",
       "6          Показать на главной странице баннеры с актуальными акциями и распродажами, чтобы увеличить конверсию   \n",
       "8                                                       Запустить акцию, дающую скидку на товар в день рождения   \n",
       "3           Изменить структура категорий, что увеличит конверсию, т.к. пользователи быстрее найдут нужный товар   \n",
       "1                                     Запустить собственную службу доставки, что сократит срок доставки заказов   \n",
       "5                      Добавить страницу отзывов клиентов о магазине, что позволит увеличить количество заказов   \n",
       "4                              Изменить цвет фона главной страницы, чтобы увеличить вовлеченность пользователей   \n",
       "\n",
       "    RICE  \n",
       "7  112.0  \n",
       "2   56.0  \n",
       "0   40.0  \n",
       "6   40.0  \n",
       "8   16.2  \n",
       "3    9.0  \n",
       "1    4.0  \n",
       "5    4.0  \n",
       "4    3.0  "
      ]
     },
     "metadata": {},
     "output_type": "display_data"
    }
   ],
   "source": [
    "hypothesis['RICE'] = (hypothesis['reach']*hypothesis['impact']*hypothesis['confidence'])/hypothesis['efforts']\n",
    "display(hypothesis[['hypothesis', 'RICE']].sort_values(by='RICE', ascending=False))"
   ]
  },
  {
   "cell_type": "code",
   "execution_count": 94,
   "metadata": {},
   "outputs": [
    {
     "data": {
      "text/html": [
       "<style  type=\"text/css\" >\n",
       "</style><table id=\"T_0bf72_\" ><thead>    <tr>        <th class=\"blank level0\" ></th>        <th class=\"col_heading level0 col0\" >hypothesis</th>        <th class=\"col_heading level0 col1\" >reach</th>        <th class=\"col_heading level0 col2\" >impact</th>        <th class=\"col_heading level0 col3\" >confidence</th>        <th class=\"col_heading level0 col4\" >efforts</th>        <th class=\"col_heading level0 col5\" >ICE</th>        <th class=\"col_heading level0 col6\" >RICE</th>    </tr></thead><tbody>\n",
       "                <tr>\n",
       "                        <th id=\"T_0bf72_level0_row0\" class=\"row_heading level0 row0\" >7</th>\n",
       "                        <td id=\"T_0bf72_row0_col0\" class=\"data row0 col0\" >Добавить форму подписки на все основные страницы, чтобы собрать базу клиентов для email-рассылок</td>\n",
       "                        <td id=\"T_0bf72_row0_col1\" class=\"data row0 col1\" >10</td>\n",
       "                        <td id=\"T_0bf72_row0_col2\" class=\"data row0 col2\" >7</td>\n",
       "                        <td id=\"T_0bf72_row0_col3\" class=\"data row0 col3\" >8</td>\n",
       "                        <td id=\"T_0bf72_row0_col4\" class=\"data row0 col4\" >5</td>\n",
       "                        <td id=\"T_0bf72_row0_col5\" class=\"data row0 col5\" >11.2</td>\n",
       "                        <td id=\"T_0bf72_row0_col6\" class=\"data row0 col6\" >112.0</td>\n",
       "            </tr>\n",
       "            <tr>\n",
       "                        <th id=\"T_0bf72_level0_row1\" class=\"row_heading level0 row1\" >2</th>\n",
       "                        <td id=\"T_0bf72_row1_col0\" class=\"data row1 col0\" >Добавить блоки рекомендаций товаров на сайт интернет магазина, чтобы повысить конверсию и средний чек заказа</td>\n",
       "                        <td id=\"T_0bf72_row1_col1\" class=\"data row1 col1\" >8</td>\n",
       "                        <td id=\"T_0bf72_row1_col2\" class=\"data row1 col2\" >3</td>\n",
       "                        <td id=\"T_0bf72_row1_col3\" class=\"data row1 col3\" >7</td>\n",
       "                        <td id=\"T_0bf72_row1_col4\" class=\"data row1 col4\" >3</td>\n",
       "                        <td id=\"T_0bf72_row1_col5\" class=\"data row1 col5\" >7.0</td>\n",
       "                        <td id=\"T_0bf72_row1_col6\" class=\"data row1 col6\" >56.0</td>\n",
       "            </tr>\n",
       "            <tr>\n",
       "                        <th id=\"T_0bf72_level0_row2\" class=\"row_heading level0 row2\" >0</th>\n",
       "                        <td id=\"T_0bf72_row2_col0\" class=\"data row2 col0\" >Добавить два новых канала привлечения трафика, что позволит привлекать на 30% больше пользователей</td>\n",
       "                        <td id=\"T_0bf72_row2_col1\" class=\"data row2 col1\" >3</td>\n",
       "                        <td id=\"T_0bf72_row2_col2\" class=\"data row2 col2\" >10</td>\n",
       "                        <td id=\"T_0bf72_row2_col3\" class=\"data row2 col3\" >8</td>\n",
       "                        <td id=\"T_0bf72_row2_col4\" class=\"data row2 col4\" >6</td>\n",
       "                        <td id=\"T_0bf72_row2_col5\" class=\"data row2 col5\" >13.3</td>\n",
       "                        <td id=\"T_0bf72_row2_col6\" class=\"data row2 col6\" >40.0</td>\n",
       "            </tr>\n",
       "            <tr>\n",
       "                        <th id=\"T_0bf72_level0_row3\" class=\"row_heading level0 row3\" >6</th>\n",
       "                        <td id=\"T_0bf72_row3_col0\" class=\"data row3 col0\" >Показать на главной странице баннеры с актуальными акциями и распродажами, чтобы увеличить конверсию</td>\n",
       "                        <td id=\"T_0bf72_row3_col1\" class=\"data row3 col1\" >5</td>\n",
       "                        <td id=\"T_0bf72_row3_col2\" class=\"data row3 col2\" >3</td>\n",
       "                        <td id=\"T_0bf72_row3_col3\" class=\"data row3 col3\" >8</td>\n",
       "                        <td id=\"T_0bf72_row3_col4\" class=\"data row3 col4\" >3</td>\n",
       "                        <td id=\"T_0bf72_row3_col5\" class=\"data row3 col5\" >8.0</td>\n",
       "                        <td id=\"T_0bf72_row3_col6\" class=\"data row3 col6\" >40.0</td>\n",
       "            </tr>\n",
       "            <tr>\n",
       "                        <th id=\"T_0bf72_level0_row4\" class=\"row_heading level0 row4\" >8</th>\n",
       "                        <td id=\"T_0bf72_row4_col0\" class=\"data row4 col0\" >Запустить акцию, дающую скидку на товар в день рождения</td>\n",
       "                        <td id=\"T_0bf72_row4_col1\" class=\"data row4 col1\" >1</td>\n",
       "                        <td id=\"T_0bf72_row4_col2\" class=\"data row4 col2\" >9</td>\n",
       "                        <td id=\"T_0bf72_row4_col3\" class=\"data row4 col3\" >9</td>\n",
       "                        <td id=\"T_0bf72_row4_col4\" class=\"data row4 col4\" >5</td>\n",
       "                        <td id=\"T_0bf72_row4_col5\" class=\"data row4 col5\" >16.2</td>\n",
       "                        <td id=\"T_0bf72_row4_col6\" class=\"data row4 col6\" >16.2</td>\n",
       "            </tr>\n",
       "            <tr>\n",
       "                        <th id=\"T_0bf72_level0_row5\" class=\"row_heading level0 row5\" >3</th>\n",
       "                        <td id=\"T_0bf72_row5_col0\" class=\"data row5 col0\" >Изменить структура категорий, что увеличит конверсию, т.к. пользователи быстрее найдут нужный товар</td>\n",
       "                        <td id=\"T_0bf72_row5_col1\" class=\"data row5 col1\" >8</td>\n",
       "                        <td id=\"T_0bf72_row5_col2\" class=\"data row5 col2\" >3</td>\n",
       "                        <td id=\"T_0bf72_row5_col3\" class=\"data row5 col3\" >3</td>\n",
       "                        <td id=\"T_0bf72_row5_col4\" class=\"data row5 col4\" >8</td>\n",
       "                        <td id=\"T_0bf72_row5_col5\" class=\"data row5 col5\" >1.1</td>\n",
       "                        <td id=\"T_0bf72_row5_col6\" class=\"data row5 col6\" >9.0</td>\n",
       "            </tr>\n",
       "            <tr>\n",
       "                        <th id=\"T_0bf72_level0_row6\" class=\"row_heading level0 row6\" >1</th>\n",
       "                        <td id=\"T_0bf72_row6_col0\" class=\"data row6 col0\" >Запустить собственную службу доставки, что сократит срок доставки заказов</td>\n",
       "                        <td id=\"T_0bf72_row6_col1\" class=\"data row6 col1\" >2</td>\n",
       "                        <td id=\"T_0bf72_row6_col2\" class=\"data row6 col2\" >5</td>\n",
       "                        <td id=\"T_0bf72_row6_col3\" class=\"data row6 col3\" >4</td>\n",
       "                        <td id=\"T_0bf72_row6_col4\" class=\"data row6 col4\" >10</td>\n",
       "                        <td id=\"T_0bf72_row6_col5\" class=\"data row6 col5\" >2.0</td>\n",
       "                        <td id=\"T_0bf72_row6_col6\" class=\"data row6 col6\" >4.0</td>\n",
       "            </tr>\n",
       "            <tr>\n",
       "                        <th id=\"T_0bf72_level0_row7\" class=\"row_heading level0 row7\" >5</th>\n",
       "                        <td id=\"T_0bf72_row7_col0\" class=\"data row7 col0\" >Добавить страницу отзывов клиентов о магазине, что позволит увеличить количество заказов</td>\n",
       "                        <td id=\"T_0bf72_row7_col1\" class=\"data row7 col1\" >3</td>\n",
       "                        <td id=\"T_0bf72_row7_col2\" class=\"data row7 col2\" >2</td>\n",
       "                        <td id=\"T_0bf72_row7_col3\" class=\"data row7 col3\" >2</td>\n",
       "                        <td id=\"T_0bf72_row7_col4\" class=\"data row7 col4\" >3</td>\n",
       "                        <td id=\"T_0bf72_row7_col5\" class=\"data row7 col5\" >1.3</td>\n",
       "                        <td id=\"T_0bf72_row7_col6\" class=\"data row7 col6\" >4.0</td>\n",
       "            </tr>\n",
       "            <tr>\n",
       "                        <th id=\"T_0bf72_level0_row8\" class=\"row_heading level0 row8\" >4</th>\n",
       "                        <td id=\"T_0bf72_row8_col0\" class=\"data row8 col0\" >Изменить цвет фона главной страницы, чтобы увеличить вовлеченность пользователей</td>\n",
       "                        <td id=\"T_0bf72_row8_col1\" class=\"data row8 col1\" >3</td>\n",
       "                        <td id=\"T_0bf72_row8_col2\" class=\"data row8 col2\" >1</td>\n",
       "                        <td id=\"T_0bf72_row8_col3\" class=\"data row8 col3\" >1</td>\n",
       "                        <td id=\"T_0bf72_row8_col4\" class=\"data row8 col4\" >1</td>\n",
       "                        <td id=\"T_0bf72_row8_col5\" class=\"data row8 col5\" >1.0</td>\n",
       "                        <td id=\"T_0bf72_row8_col6\" class=\"data row8 col6\" >3.0</td>\n",
       "            </tr>\n",
       "    </tbody></table>"
      ],
      "text/plain": [
       "<pandas.io.formats.style.Styler at 0x7f18674e7af0>"
      ]
     },
     "metadata": {},
     "output_type": "display_data"
    }
   ],
   "source": [
    "display(hypothesis.sort_values(by='RICE', ascending=False).style.format({'ICE': '{:.1f}', 'RICE': '{:.1f}'}))"
   ]
  },
  {
   "cell_type": "markdown",
   "metadata": {},
   "source": [
    "**Вывод:**  \n",
    "  \n",
    "- 7, 2, 0, 6, 8 - пятёрка лидеров одинакова при применении обоих способов;  \n",
    "- **8 гипотеза. \"Запустить акцию, дающую скидку на товар в день рождения\"** с 1 места при  методе ICE уходит на 5 место по приоритету при RICE. Оценка Reach - 1, что справедливо. Сколько именинников окажется в период проведения эксперимента? А по стоимости трудозатрат имеет оценку 5, что нимало. Проверку данной гипотезы я бы не ставила в приоритет на короткий временной промежуток исследования.\n",
    "- **6 гипотеза. \"Показать на главной странице баннеры с актуальными акциями и распродажами, чтобы увеличить конверсию\"** 4 место при способе ICE, 3/4 при способе RICE. Охват - 5, усилия - 3, Impact - 3, Confidence - 8;  \n",
    "- **0 гипотеза. \"Добавить два новых канала привлечения трафика, что позволит привлекать на 30% больше пользователей\"** 2 место при способе ICE, 3 при способе RICE. При этом Reach - 3, Efforts - 6, Impact - 10, Confidence - 8. Охват небольшой, трудозатраты существенные, а уверенность в том, как это повлияет на пользователей и насколько сильно - может быть оценено ошибочно;  \n",
    "- **2 гипотеза. \"Добавить блоки рекомендаций товаров на сайт интернет магазина, чтобы повысить конверсию и средний чек заказа\t\"** 5 место при способе ICE, 2 при способе RICE. Reach - 8, что говорит о том, что охват существенный. Efforts - 3, стоимость усилий невысокая. Impact - 3, удовлетворённость пользователей может быть несущественным фактором, Confidence - 7, оценка, что влияние на пользователей пойдёт по плану, высокая;  \n",
    "- **7 гипотеза. \"Добавить форму подписки на все основные страницы, чтобы собрать базу клиентов для email-рассылок\"** 3 место при способе ICE, 1 при способе RICE. Reach - 10, охвачены будут все участники в данный период. Efforts - 5, это говорит о том, что реализация будет стоить усилий. Impact - 7. Confidence - 8. Будут ли email-рассылки иметь тот ожидаемый эффект, на который делается  ставка? Но иметь полную базу адресов важно.  \n",
    "- **2, 0, 7, 6, 8** - в таком порядке я ставлю гипотезы по убыванию от самой приоритетной. Повышение трафика, увеличение конверсии и среднего чека - очень важные показатели для прибыльности бизнеса.\n"
   ]
  },
  {
   "cell_type": "markdown",
   "metadata": {},
   "source": [
    "# Часть 2. Анализ A/B-теста."
   ]
  },
  {
   "cell_type": "markdown",
   "metadata": {},
   "source": [
    "## Анализ A/B-теста."
   ]
  },
  {
   "cell_type": "code",
   "execution_count": 95,
   "metadata": {},
   "outputs": [
    {
     "data": {
      "text/plain": [
       "58"
      ]
     },
     "execution_count": 95,
     "metadata": {},
     "output_type": "execute_result"
    }
   ],
   "source": [
    "# группы из данных с заказами \n",
    "group_a=orders.query('group == \"A\"') \n",
    "group_b=orders.query('group == \"B\"') \n",
    " \n",
    "# id пользователей, попавших в обе группы \n",
    "group_intersections=list(np.intersect1d(group_a['visitorId'], group_b['visitorId']))\n",
    "len(group_intersections)"
   ]
  },
  {
   "cell_type": "code",
   "execution_count": 96,
   "metadata": {},
   "outputs": [],
   "source": [
    "# удаление пользователей, попавших в обе группы\n",
    "orders = orders.query('visitorId not in @group_intersections')"
   ]
  },
  {
   "cell_type": "code",
   "execution_count": 97,
   "metadata": {},
   "outputs": [
    {
     "data": {
      "text/plain": [
       "0"
      ]
     },
     "execution_count": 97,
     "metadata": {},
     "output_type": "execute_result"
    }
   ],
   "source": [
    "# проверка исправлений\n",
    "group_a=orders.query('group == \"A\"') \n",
    "group_b=orders.query('group == \"B\"') \n",
    "group_intersections=list(np.intersect1d(group_a['visitorId'], group_b['visitorId']))\n",
    "len(group_intersections)"
   ]
  },
  {
   "cell_type": "markdown",
   "metadata": {},
   "source": [
    "В обычных условиях пересекающихся пользователей стоит удалить, но в данном случае удаление произведено только из таблицы orders, в таблице visitors они остались и удалить оттуда пользователей невозможно (там нет id). \n",
    "Удаление пользователей, попавших в обе группы, для того, чтобы исключить искажение результата, т.к. тестирование направлено на то, чтобы оценить влияние внедряемых изменений в разных группах заказчиков. Выявить пересечение групп можно по ID пользователей, такие данные представлены только в таблице orders."
   ]
  },
  {
   "cell_type": "markdown",
   "metadata": {},
   "source": [
    "### Кумулятивная выручка по группам."
   ]
  },
  {
   "cell_type": "code",
   "execution_count": 98,
   "metadata": {},
   "outputs": [
    {
     "data": {
      "text/html": [
       "<div>\n",
       "<style scoped>\n",
       "    .dataframe tbody tr th:only-of-type {\n",
       "        vertical-align: middle;\n",
       "    }\n",
       "\n",
       "    .dataframe tbody tr th {\n",
       "        vertical-align: top;\n",
       "    }\n",
       "\n",
       "    .dataframe thead th {\n",
       "        text-align: right;\n",
       "    }\n",
       "</style>\n",
       "<table border=\"1\" class=\"dataframe\">\n",
       "  <thead>\n",
       "    <tr style=\"text-align: right;\">\n",
       "      <th></th>\n",
       "      <th>date</th>\n",
       "      <th>group</th>\n",
       "      <th>orders</th>\n",
       "      <th>buyers</th>\n",
       "      <th>revenue</th>\n",
       "      <th>visitors</th>\n",
       "    </tr>\n",
       "  </thead>\n",
       "  <tbody>\n",
       "    <tr>\n",
       "      <th>0</th>\n",
       "      <td>2019-08-01</td>\n",
       "      <td>A</td>\n",
       "      <td>23</td>\n",
       "      <td>19</td>\n",
       "      <td>142779</td>\n",
       "      <td>719</td>\n",
       "    </tr>\n",
       "    <tr>\n",
       "      <th>1</th>\n",
       "      <td>2019-08-01</td>\n",
       "      <td>B</td>\n",
       "      <td>17</td>\n",
       "      <td>17</td>\n",
       "      <td>59758</td>\n",
       "      <td>713</td>\n",
       "    </tr>\n",
       "  </tbody>\n",
       "</table>\n",
       "</div>"
      ],
      "text/plain": [
       "        date group  orders  buyers  revenue  visitors\n",
       "0 2019-08-01     A      23      19   142779       719\n",
       "1 2019-08-01     B      17      17    59758       713"
      ]
     },
     "metadata": {},
     "output_type": "display_data"
    },
    {
     "data": {
      "text/html": [
       "<div>\n",
       "<style scoped>\n",
       "    .dataframe tbody tr th:only-of-type {\n",
       "        vertical-align: middle;\n",
       "    }\n",
       "\n",
       "    .dataframe tbody tr th {\n",
       "        vertical-align: top;\n",
       "    }\n",
       "\n",
       "    .dataframe thead th {\n",
       "        text-align: right;\n",
       "    }\n",
       "</style>\n",
       "<table border=\"1\" class=\"dataframe\">\n",
       "  <thead>\n",
       "    <tr style=\"text-align: right;\">\n",
       "      <th></th>\n",
       "      <th>date</th>\n",
       "      <th>group</th>\n",
       "      <th>orders</th>\n",
       "      <th>buyers</th>\n",
       "      <th>revenue</th>\n",
       "      <th>visitors</th>\n",
       "    </tr>\n",
       "  </thead>\n",
       "  <tbody>\n",
       "    <tr>\n",
       "      <th>60</th>\n",
       "      <td>2019-08-31</td>\n",
       "      <td>A</td>\n",
       "      <td>468</td>\n",
       "      <td>445</td>\n",
       "      <td>3364656</td>\n",
       "      <td>18736</td>\n",
       "    </tr>\n",
       "    <tr>\n",
       "      <th>61</th>\n",
       "      <td>2019-08-31</td>\n",
       "      <td>B</td>\n",
       "      <td>548</td>\n",
       "      <td>528</td>\n",
       "      <td>5068972</td>\n",
       "      <td>18916</td>\n",
       "    </tr>\n",
       "  </tbody>\n",
       "</table>\n",
       "</div>"
      ],
      "text/plain": [
       "         date group  orders  buyers  revenue  visitors\n",
       "60 2019-08-31     A     468     445  3364656     18736\n",
       "61 2019-08-31     B     548     528  5068972     18916"
      ]
     },
     "metadata": {},
     "output_type": "display_data"
    }
   ],
   "source": [
    "# создание df cumulativeData\n",
    "\n",
    "# массив уникальных пар значений дат и групп теста\n",
    "datesGroups = orders[['date', 'group']].drop_duplicates()\n",
    "\n",
    "# объявление переменной ordersAggregated\n",
    "ordersAggregated = datesGroups.apply(\n",
    "    lambda x: orders[np.logical_and(orders['date'] <= x['date'], orders['group'] == x['group'])].agg({\n",
    "'date' : 'max',\n",
    "'group' : 'max',\n",
    "'transactionId' : pd.Series.nunique,\n",
    "'visitorId' : pd.Series.nunique,\n",
    "'revenue' : 'sum'}), axis=1).sort_values(by=['date','group']) \n",
    "\n",
    "# объявление переменной visitorsAggregated\n",
    "visitorsAggregated = datesGroups.apply(lambda x: visitors[np.logical_and(visitors['date'] <= x['date'], visitors['group'] == x['group'])].agg({'date' : 'max', 'group' : 'max', 'visitors' : 'sum'}), axis=1).sort_values(by=['date','group'])\n",
    "\n",
    "# объединение кумулятивных данных в одной таблице\n",
    "cumulativeData =  ordersAggregated.merge(visitorsAggregated, \n",
    "                                         left_on=['date', 'group'], right_on=['date', 'group']) \n",
    "\n",
    "cumulativeData.columns = ['date', 'group', 'orders', 'buyers', 'revenue', 'visitors']\n",
    "\n",
    "display(cumulativeData.head(2), cumulativeData.tail(2))"
   ]
  },
  {
   "cell_type": "code",
   "execution_count": 99,
   "metadata": {},
   "outputs": [
    {
     "data": {
      "text/plain": [
       "<matplotlib.legend.Legend at 0x7f1866fad5e0>"
      ]
     },
     "execution_count": 99,
     "metadata": {},
     "output_type": "execute_result"
    },
    {
     "data": {
      "image/png": "[encoded data removed]",
      "text/plain": [
       "<Figure size 1440x720 with 1 Axes>"
      ]
     },
     "metadata": {},
     "output_type": "display_data"
    }
   ],
   "source": [
    "# объявление переменных cumulativeRevenueA и cumulativeRevenueB\n",
    "cumulativeRevenueA = cumulativeData[cumulativeData['group']=='A'][['date','revenue', 'orders']]\n",
    "\n",
    "cumulativeRevenueB = cumulativeData[cumulativeData['group']=='B'][['date','revenue', 'orders']]\n",
    "\n",
    "# параметры визуализации\n",
    "sns.set(font_scale=2, style='whitegrid', rc={'figure.figsize':(20,10)})\n",
    "\n",
    "# график выручки группы А\n",
    "plt.plot(cumulativeRevenueA['date'], cumulativeRevenueA['revenue'], label='A')\n",
    "\n",
    "# график выручки группы B\n",
    "plt.plot(cumulativeRevenueB['date'], cumulativeRevenueB['revenue'], label='B')\n",
    "\n",
    "# размер шрифта по оси х\n",
    "plt.tick_params(axis='x', which='major', labelsize=15)\n",
    "\n",
    "plt.title('График кумулятивной выручки по группам')\n",
    "plt.xlabel('Дата')\n",
    "plt.ylabel('Выручка')\n",
    "plt.legend()"
   ]
  },
  {
   "cell_type": "markdown",
   "metadata": {},
   "source": [
    "Первые 5 дней графики выручки показывают почти одинаковый результат, далее группа В стабильно лучше по накопленным показателям, в середине месяца происходит скачок и до конца теста группа В лидирует.  \n",
    "Такое резкое изменение графика может быть связано либо с дорогостоящими покупками, либо с большим числом покупок.  \n",
    "Динамика роста в обоих группах к концу тестирования практически одинаковая.  \n",
    "Окончательные выводы можно будеть сделать после обработки выброса."
   ]
  },
  {
   "cell_type": "markdown",
   "metadata": {},
   "source": [
    "### График кумулятивного среднего чека по группам."
   ]
  },
  {
   "cell_type": "code",
   "execution_count": 100,
   "metadata": {},
   "outputs": [
    {
     "data": {
      "image/png": "[encoded data removed]",
      "text/plain": [
       "<Figure size 1440x720 with 1 Axes>"
      ]
     },
     "metadata": {},
     "output_type": "display_data"
    }
   ],
   "source": [
    "# график среднего чека группы А\n",
    "plt.plot(cumulativeRevenueA['date'], cumulativeRevenueA['revenue']/cumulativeRevenueA['orders'], label='A')\n",
    "\n",
    "# график среднего чека группы В\n",
    "plt.plot(cumulativeRevenueB['date'], cumulativeRevenueB['revenue']/cumulativeRevenueB['orders'], label='B')\n",
    "\n",
    "# размер шрифта по оси x\n",
    "plt.tick_params(axis='x', which='major', labelsize=15)\n",
    "\n",
    "plt.title('График кумулятивного среднего чека по группам')\n",
    "plt.xlabel('Дата')\n",
    "plt.ylabel('Кумулятивный cредний чек')\n",
    "plt.legend();"
   ]
  },
  {
   "cell_type": "markdown",
   "metadata": {},
   "source": [
    "По среднему чеку график группы В в целом преобладает над группой А, также отмечается выброс в середине месяца.  \n",
    "График группы А после середины месяца стабилен, у группы В тенденция к снижению, что, вероятно, обусловлено выбросом."
   ]
  },
  {
   "cell_type": "code",
   "execution_count": 101,
   "metadata": {},
   "outputs": [
    {
     "data": {
      "text/plain": [
       "Text(0, 0.5, 'Кумулятивный cредний чек')"
      ]
     },
     "execution_count": 101,
     "metadata": {},
     "output_type": "execute_result"
    },
    {
     "data": {
      "image/png": "[encoded data removed]",
      "text/plain": [
       "<Figure size 1440x720 with 1 Axes>"
      ]
     },
     "metadata": {},
     "output_type": "display_data"
    }
   ],
   "source": [
    "# относительное изменение кумулятивного среднего чека группы B к группе A\n",
    "# объединение кумулятивных данных в одной таблице\n",
    "mergedCumulativeRevenue = cumulativeRevenueA.merge(cumulativeRevenueB, left_on='date', right_on='date', how='left', suffixes=['A', 'B'])\n",
    "\n",
    "# сотношение средних чеков\n",
    "plt.plot(mergedCumulativeRevenue['date'], (mergedCumulativeRevenue['revenueB']/mergedCumulativeRevenue['ordersB'])/(mergedCumulativeRevenue['revenueA']/mergedCumulativeRevenue['ordersA'])-1)\n",
    "\n",
    "# ось X\n",
    "plt.axhline(y=0, color='black', linestyle='--')\n",
    "\n",
    "# размер шрифта по оси x\n",
    "plt.tick_params(axis='x', which='major', labelsize=15)\n",
    "\n",
    "plt.title('График относительного изменения кумулятивного среднего чека группы B к группе A')\n",
    "plt.xlabel('Дата')\n",
    "plt.ylabel('Кумулятивный cредний чек')"
   ]
  },
  {
   "cell_type": "markdown",
   "metadata": {},
   "source": [
    "Результаты теста значительно меняются в несколько дат.  \n",
    "Также сохраняется аномалия в середине месяца.  \n",
    "Первую неделю группа В преобладает над А, затем группа А показывала лучшие результаты, после выброса группа В вырвалась вперёд и сохранила лидерство до конца эксперимента с тенденцией к снижению своего результата."
   ]
  },
  {
   "cell_type": "markdown",
   "metadata": {},
   "source": [
    "### График кумулятивного среднего количества заказов на посетителя по группам. "
   ]
  },
  {
   "cell_type": "code",
   "execution_count": 102,
   "metadata": {},
   "outputs": [
    {
     "data": {
      "text/plain": [
       "Text(0, 0.5, 'Кумулятивный показатель ср.кол-ва заказов')"
      ]
     },
     "execution_count": 102,
     "metadata": {},
     "output_type": "execute_result"
    },
    {
     "data": {
      "image/png": "[encoded data removed]",
      "text/plain": [
       "<Figure size 1440x720 with 1 Axes>"
      ]
     },
     "metadata": {},
     "output_type": "display_data"
    }
   ],
   "source": [
    "# кумулятивное среднее количество заказов на посетителя по группам\n",
    "cumulativeData['conversion'] = cumulativeData['orders']/cumulativeData['visitors']\n",
    "\n",
    "# данные по группе A\n",
    "cumulativeDataA = cumulativeData[cumulativeData['group']=='A']\n",
    "\n",
    "# данные по группе B\n",
    "cumulativeDataB = cumulativeData[cumulativeData['group']=='B']\n",
    "\n",
    "# графики\n",
    "plt.plot(cumulativeDataA['date'], cumulativeDataA['conversion'], label='A')\n",
    "plt.plot(cumulativeDataB['date'], cumulativeDataB['conversion'], label='B')\n",
    "plt.legend()\n",
    "\n",
    "# размер шрифта по оси x\n",
    "plt.tick_params(axis='x', which='major', labelsize=15)\n",
    "\n",
    "# задаем масштаб осей\n",
    "plt.axis([dt.datetime(2019, 8, 1), dt.datetime(2019, 9, 1), 0.020, 0.038])\n",
    "\n",
    "plt.title('График кумулятивного среднего количества заказов на посетителя по группам')\n",
    "plt.xlabel('Дата')\n",
    "plt.ylabel('Кумулятивный показатель ср.кол-ва заказов')"
   ]
  },
  {
   "cell_type": "markdown",
   "metadata": {},
   "source": [
    "В первую неделю **среднее количество заказов** группы А было выше, но потом группа В стала показывать стабильно лучший результат до конца тестирования.  \n",
    "Нет никаких скачков в середине месяца, что говорит о том, что никаких аномалий по количеству заказов не происходило.  \n",
    "***Среднее количество заказов*** у группы В стабильно лучше по накопленным показателям чем у A."
   ]
  },
  {
   "cell_type": "markdown",
   "metadata": {},
   "source": [
    "### График относительного изменения кумулятивного среднего количества заказов на посетителя группы B к группе A. "
   ]
  },
  {
   "cell_type": "code",
   "execution_count": 103,
   "metadata": {},
   "outputs": [
    {
     "data": {
      "text/plain": [
       "Text(0, 0.5, 'Кумулятивный показатель ср.кол-ва заказов')"
      ]
     },
     "execution_count": 103,
     "metadata": {},
     "output_type": "execute_result"
    },
    {
     "data": {
      "image/png": "[encoded data removed]",
      "text/plain": [
       "<Figure size 1440x720 with 1 Axes>"
      ]
     },
     "metadata": {},
     "output_type": "display_data"
    }
   ],
   "source": [
    "mergedCumulativeConversions = cumulativeDataA[['date','conversion']].merge(\n",
    "    cumulativeDataB[['date','conversion']], left_on='date', right_on='date', how='left', suffixes=['A', 'B'])\n",
    "\n",
    "plt.plot(mergedCumulativeConversions['date'], \n",
    "         mergedCumulativeConversions['conversionB']/mergedCumulativeConversions['conversionA']-1)\n",
    "\n",
    "plt.axhline(y=0, color='black', linestyle='--')\n",
    "plt.axhline(y=0.12, color='red', linestyle='--')\n",
    "plt.axis([dt.datetime(2019, 8, 1), dt.datetime(2019, 9, 1), -0.3, 0.3])\n",
    "\n",
    "# размер шрифта по оси x\n",
    "plt.tick_params(axis='x', which='major', labelsize=15)\n",
    "\n",
    "plt.title('График относительного изменения кумулятивного среднего количества заказов на посетителя группы B к группе A')\n",
    "plt.xlabel('Дата')\n",
    "plt.ylabel('Кумулятивный показатель ср.кол-ва заказов')"
   ]
  },
  {
   "cell_type": "markdown",
   "metadata": {},
   "source": [
    "В начале первой недели наблюдаются колебания, после чего **среднее количество заказов** группы В показывает преобладающий результат.  \n",
    "С 8 числа показатели стабильно выше 12%."
   ]
  },
  {
   "cell_type": "markdown",
   "metadata": {},
   "source": [
    "### Точечный график количества заказов по пользователям."
   ]
  },
  {
   "cell_type": "code",
   "execution_count": 104,
   "metadata": {},
   "outputs": [
    {
     "name": "stdout",
     "output_type": "stream",
     "text": [
      "      visitorId  orders\n",
      "908  3967698036       3\n",
      "55    249864742       3\n",
      "478  2108163459       3\n",
      "687  2988190573       3\n",
      "890  3908431265       3\n",
      "138   611059232       3\n",
      "632  2742574263       3\n",
      "157   678354126       2\n",
      "323  1404560065       2\n",
      "452  1985475298       2\n"
     ]
    }
   ],
   "source": [
    "# df число заказов по пользователям, отсортированный по убыванию числа заказов \n",
    "ordersByUsers = (orders.groupby('visitorId', as_index=False).agg({'transactionId': 'nunique'}))\n",
    "\n",
    "ordersByUsers.columns = ['visitorId', 'orders']\n",
    "print(ordersByUsers.sort_values(by='orders', ascending=False).head(10))"
   ]
  },
  {
   "cell_type": "code",
   "execution_count": 105,
   "metadata": {},
   "outputs": [
    {
     "data": {
      "text/plain": [
       "Text(0, 0.5, 'Количество заказов')"
      ]
     },
     "execution_count": 105,
     "metadata": {},
     "output_type": "execute_result"
    },
    {
     "data": {
      "image/png": "[encoded data removed]",
      "text/plain": [
       "<Figure size 1440x720 with 1 Axes>"
      ]
     },
     "metadata": {},
     "output_type": "display_data"
    }
   ],
   "source": [
    "# серия из чисел от 0 до количества наблюдений в ordersByUsers\n",
    "x_values = pd.Series(range(0, len(ordersByUsers)))\n",
    "plt.scatter(x_values, ordersByUsers['orders']);\n",
    "\n",
    "plt.title('Точечный график количества заказов по пользователям')\n",
    "plt.ylabel('Количество заказов')"
   ]
  },
  {
   "cell_type": "markdown",
   "metadata": {},
   "source": [
    "Максимальное количество заказов - 3, их всего 7, в дальнейшем от них можно очистить данные.  \n",
    "В основном в исследуемом периоде делали по 1 заказу, по 2 меньше. Точное соотношение можно выявить по перцентилям."
   ]
  },
  {
   "cell_type": "markdown",
   "metadata": {},
   "source": [
    "### 95-й и 99-й перцентили количества заказов на пользователя. Границы для определения аномальных пользователей."
   ]
  },
  {
   "cell_type": "code",
   "execution_count": 106,
   "metadata": {},
   "outputs": [
    {
     "name": "stdout",
     "output_type": "stream",
     "text": [
      "[1. 2.]\n"
     ]
    }
   ],
   "source": [
    "print(np.percentile(ordersByUsers['orders'], [95, 99]))"
   ]
  },
  {
   "cell_type": "markdown",
   "metadata": {},
   "source": [
    "Больше 2 заказов совершили не более 1% пользователей.  \n",
    "Больше 1 заказа совершили не более 5% пользователей.  \n",
    "Пользователей, сделавших более 2 заказов, будем считать аномальными."
   ]
  },
  {
   "cell_type": "markdown",
   "metadata": {},
   "source": [
    "### Точечный график стоимостей заказов."
   ]
  },
  {
   "cell_type": "code",
   "execution_count": 107,
   "metadata": {},
   "outputs": [
    {
     "data": {
      "text/html": [
       "<div>\n",
       "<style scoped>\n",
       "    .dataframe tbody tr th:only-of-type {\n",
       "        vertical-align: middle;\n",
       "    }\n",
       "\n",
       "    .dataframe tbody tr th {\n",
       "        vertical-align: top;\n",
       "    }\n",
       "\n",
       "    .dataframe thead th {\n",
       "        text-align: right;\n",
       "    }\n",
       "</style>\n",
       "<table border=\"1\" class=\"dataframe\">\n",
       "  <thead>\n",
       "    <tr style=\"text-align: right;\">\n",
       "      <th></th>\n",
       "      <th>transactionId</th>\n",
       "      <th>visitorId</th>\n",
       "      <th>date</th>\n",
       "      <th>revenue</th>\n",
       "      <th>group</th>\n",
       "    </tr>\n",
       "  </thead>\n",
       "  <tbody>\n",
       "    <tr>\n",
       "      <th>425</th>\n",
       "      <td>590470918</td>\n",
       "      <td>1920142716</td>\n",
       "      <td>2019-08-19</td>\n",
       "      <td>1294500</td>\n",
       "      <td>B</td>\n",
       "    </tr>\n",
       "    <tr>\n",
       "      <th>1196</th>\n",
       "      <td>3936777065</td>\n",
       "      <td>2108080724</td>\n",
       "      <td>2019-08-15</td>\n",
       "      <td>202740</td>\n",
       "      <td>B</td>\n",
       "    </tr>\n",
       "    <tr>\n",
       "      <th>1136</th>\n",
       "      <td>666610489</td>\n",
       "      <td>1307669133</td>\n",
       "      <td>2019-08-13</td>\n",
       "      <td>92550</td>\n",
       "      <td>A</td>\n",
       "    </tr>\n",
       "    <tr>\n",
       "      <th>744</th>\n",
       "      <td>3668308183</td>\n",
       "      <td>888512513</td>\n",
       "      <td>2019-08-27</td>\n",
       "      <td>86620</td>\n",
       "      <td>B</td>\n",
       "    </tr>\n",
       "    <tr>\n",
       "      <th>743</th>\n",
       "      <td>3603576309</td>\n",
       "      <td>4133034833</td>\n",
       "      <td>2019-08-09</td>\n",
       "      <td>67990</td>\n",
       "      <td>A</td>\n",
       "    </tr>\n",
       "    <tr>\n",
       "      <th>1103</th>\n",
       "      <td>1348774318</td>\n",
       "      <td>1164614297</td>\n",
       "      <td>2019-08-12</td>\n",
       "      <td>66350</td>\n",
       "      <td>A</td>\n",
       "    </tr>\n",
       "    <tr>\n",
       "      <th>1099</th>\n",
       "      <td>316924019</td>\n",
       "      <td>148427295</td>\n",
       "      <td>2019-08-12</td>\n",
       "      <td>65710</td>\n",
       "      <td>A</td>\n",
       "    </tr>\n",
       "    <tr>\n",
       "      <th>949</th>\n",
       "      <td>1347999392</td>\n",
       "      <td>887908475</td>\n",
       "      <td>2019-08-21</td>\n",
       "      <td>60450</td>\n",
       "      <td>A</td>\n",
       "    </tr>\n",
       "    <tr>\n",
       "      <th>940</th>\n",
       "      <td>2420050534</td>\n",
       "      <td>4003628586</td>\n",
       "      <td>2019-08-08</td>\n",
       "      <td>58550</td>\n",
       "      <td>B</td>\n",
       "    </tr>\n",
       "    <tr>\n",
       "      <th>131</th>\n",
       "      <td>3163614039</td>\n",
       "      <td>2254586615</td>\n",
       "      <td>2019-08-22</td>\n",
       "      <td>53904</td>\n",
       "      <td>A</td>\n",
       "    </tr>\n",
       "  </tbody>\n",
       "</table>\n",
       "</div>"
      ],
      "text/plain": [
       "      transactionId   visitorId       date  revenue group\n",
       "425       590470918  1920142716 2019-08-19  1294500     B\n",
       "1196     3936777065  2108080724 2019-08-15   202740     B\n",
       "1136      666610489  1307669133 2019-08-13    92550     A\n",
       "744      3668308183   888512513 2019-08-27    86620     B\n",
       "743      3603576309  4133034833 2019-08-09    67990     A\n",
       "1103     1348774318  1164614297 2019-08-12    66350     A\n",
       "1099      316924019   148427295 2019-08-12    65710     A\n",
       "949      1347999392   887908475 2019-08-21    60450     A\n",
       "940      2420050534  4003628586 2019-08-08    58550     B\n",
       "131      3163614039  2254586615 2019-08-22    53904     A"
      ]
     },
     "execution_count": 107,
     "metadata": {},
     "output_type": "execute_result"
    }
   ],
   "source": [
    "# топ по стоимости заказов\n",
    "orders.sort_values(by='revenue', ascending=False).head(10)"
   ]
  },
  {
   "cell_type": "code",
   "execution_count": 108,
   "metadata": {},
   "outputs": [
    {
     "data": {
      "text/plain": [
       "Text(0, 0.5, 'Стоимость заказа в млн.')"
      ]
     },
     "execution_count": 108,
     "metadata": {},
     "output_type": "execute_result"
    },
    {
     "data": {
      "image/png": "[encoded data removed]",
      "text/plain": [
       "<Figure size 1440x720 with 1 Axes>"
      ]
     },
     "metadata": {},
     "output_type": "display_data"
    }
   ],
   "source": [
    "x_values = pd.Series(range(0, len(orders['revenue'])))\n",
    "plt.scatter(x_values, orders['revenue'])\n",
    "plt.axhline(y=20000, color='red', linestyle='--')\n",
    "plt.title('Точечный график стоимостей заказов')\n",
    "plt.ylabel('Стоимость заказа в млн.')"
   ]
  },
  {
   "cell_type": "markdown",
   "metadata": {},
   "source": [
    "На первый взгляд, основная масса заказов в диапазоне до 20 тыс.руб. Но есть аномальные заказы, особенно 2 (~ на 1,3 млн.руб и ~ 200 тыс.руб.)"
   ]
  },
  {
   "cell_type": "markdown",
   "metadata": {},
   "source": [
    "### 95-й и 99-й перцентили стоимости заказов. Границы для определения аномальных заказов."
   ]
  },
  {
   "cell_type": "code",
   "execution_count": 109,
   "metadata": {},
   "outputs": [
    {
     "name": "stdout",
     "output_type": "stream",
     "text": [
      "[26785. 53904.]\n"
     ]
    }
   ],
   "source": [
    "print(np.percentile(orders['revenue'], [95, 99]))"
   ]
  },
  {
   "cell_type": "markdown",
   "metadata": {},
   "source": [
    "На сумму заказов более 53 904 руб совершили не более 1% пользователей.  \n",
    "На сумму заказов более 26 785 руб совершили не более 5% пользователей.  \n",
    "Заказы на сумму более 26 785 руб будем считать аномальными."
   ]
  },
  {
   "cell_type": "code",
   "execution_count": 110,
   "metadata": {},
   "outputs": [
    {
     "data": {
      "text/plain": [
       "<matplotlib.lines.Line2D at 0x7f181ce05cd0>"
      ]
     },
     "execution_count": 110,
     "metadata": {},
     "output_type": "execute_result"
    },
    {
     "data": {
      "image/png": "[encoded data removed]",
      "text/plain": [
       "<Figure size 1080x360 with 1 Axes>"
      ]
     },
     "metadata": {},
     "output_type": "display_data"
    }
   ],
   "source": [
    "norm_orders = orders[orders['revenue']<=27000]['revenue']\n",
    "xn_values = pd.Series(range(0,len(norm_orders)))\n",
    "plt.figure(figsize=(15,5))\n",
    "plt.grid()\n",
    "plt.title('Точечный график стоимостей заказов')\n",
    "plt.ylabel('Стоимость заказа в млн.')\n",
    "plt.scatter(xn_values, norm_orders, alpha=0.5)\n",
    "plt.axhline(y=20000, color='red', linestyle='--')"
   ]
  },
  {
   "cell_type": "markdown",
   "metadata": {},
   "source": [
    "### Статистическая значимость различий в среднем количестве заказов на посетителя между группами по «сырым» данным."
   ]
  },
  {
   "cell_type": "markdown",
   "metadata": {},
   "source": [
    "Критический уровень статистической значимости α = **5%** (далее во всех расчётах)"
   ]
  },
  {
   "cell_type": "code",
   "execution_count": 111,
   "metadata": {},
   "outputs": [],
   "source": [
    "alpha = 0.05"
   ]
  },
  {
   "cell_type": "code",
   "execution_count": 112,
   "metadata": {},
   "outputs": [
    {
     "name": "stdout",
     "output_type": "stream",
     "text": [
      "        date  ordersPerDateA  revenuePerDateA  ordersPerDateB  \\\n",
      "0 2019-08-01              23           142779              17   \n",
      "1 2019-08-02              19            91602              23   \n",
      "2 2019-08-03              24           112473              14   \n",
      "3 2019-08-04              11            41176              14   \n",
      "4 2019-08-05              22            86383              21   \n",
      "\n",
      "   revenuePerDateB  ordersCummulativeA  revenueCummulativeA  \\\n",
      "0            59758                  23               142779   \n",
      "1           162043                  42               234381   \n",
      "2            67049                  66               346854   \n",
      "3            96890                  77               388030   \n",
      "4            89908                  99               474413   \n",
      "\n",
      "   ordersCummulativeB  revenueCummulativeB  visitorsPerDateA  \\\n",
      "0                  17                59758               719   \n",
      "1                  40               221801               619   \n",
      "2                  54               288850               507   \n",
      "3                  68               385740               717   \n",
      "4                  89               475648               756   \n",
      "\n",
      "   visitorsPerDateB  visitorsCummulativeA  visitorsCummulativeB  \n",
      "0               713                   719                   713  \n",
      "1               581                  1338                  1294  \n",
      "2               509                  1845                  1803  \n",
      "3               770                  2562                  2573  \n",
      "4               707                  3318                  3280  \n"
     ]
    }
   ],
   "source": [
    "# подготовка данных\n",
    "visitorsADaily = visitors[visitors['group'] == 'A'][['date', 'visitors']]\n",
    "visitorsADaily.columns = ['date', 'visitorsPerDateA']\n",
    "\n",
    "visitorsACummulative = visitorsADaily.apply(\n",
    "    lambda x: visitorsADaily[visitorsADaily['date'] <= x['date']].agg(\n",
    "        {'date': 'max', 'visitorsPerDateA': 'sum'}\n",
    "    ),\n",
    "    axis=1,\n",
    ")\n",
    "visitorsACummulative.columns = ['date', 'visitorsCummulativeA']\n",
    "\n",
    "visitorsBDaily = visitors[visitors['group'] == 'B'][['date', 'visitors']]\n",
    "visitorsBDaily.columns = ['date', 'visitorsPerDateB']\n",
    "\n",
    "visitorsBCummulative = visitorsBDaily.apply(\n",
    "    lambda x: visitorsBDaily[visitorsBDaily['date'] <= x['date']].agg(\n",
    "        {'date': 'max', 'visitorsPerDateB': 'sum'}\n",
    "    ),\n",
    "    axis=1,\n",
    ")\n",
    "visitorsBCummulative.columns = ['date', 'visitorsCummulativeB']\n",
    "\n",
    "ordersADaily = (\n",
    "    orders[orders['group'] == 'A'][['date', 'transactionId', 'visitorId', 'revenue']]\n",
    "    .groupby('date', as_index=False)\n",
    "    .agg({'transactionId': pd.Series.nunique, 'revenue': 'sum'})\n",
    ")\n",
    "ordersADaily.columns = ['date', 'ordersPerDateA', 'revenuePerDateA']\n",
    "\n",
    "ordersACummulative = ordersADaily.apply(\n",
    "    lambda x: ordersADaily[ordersADaily['date'] <= x['date']].agg(\n",
    "        {'date': 'max', 'ordersPerDateA': 'sum', 'revenuePerDateA': 'sum'}\n",
    "    ),\n",
    "    axis=1,\n",
    ").sort_values(by=['date'])\n",
    "ordersACummulative.columns = [\n",
    "    'date',\n",
    "    'ordersCummulativeA',\n",
    "    'revenueCummulativeA',\n",
    "]\n",
    "\n",
    "ordersBDaily = (\n",
    "    orders[orders['group'] == 'B'][['date', 'transactionId', 'visitorId', 'revenue']]\n",
    "    .groupby('date', as_index=False)\n",
    "    .agg({'transactionId': pd.Series.nunique, 'revenue': 'sum'})\n",
    ")\n",
    "ordersBDaily.columns = ['date', 'ordersPerDateB', 'revenuePerDateB']\n",
    "\n",
    "ordersBCummulative = ordersBDaily.apply(\n",
    "    lambda x: ordersBDaily[ordersBDaily['date'] <= x['date']].agg(\n",
    "        {'date': 'max', 'ordersPerDateB': 'sum', 'revenuePerDateB': 'sum'}\n",
    "    ),\n",
    "    axis=1,\n",
    ").sort_values(by=['date'])\n",
    "ordersBCummulative.columns = [\n",
    "    'date',\n",
    "    'ordersCummulativeB',\n",
    "    'revenueCummulativeB',\n",
    "]\n",
    "\n",
    "data = (\n",
    "    ordersADaily.merge(\n",
    "        ordersBDaily, left_on='date', right_on='date', how='left'\n",
    "    )\n",
    "    .merge(ordersACummulative, left_on='date', right_on='date', how='left')\n",
    "    .merge(ordersBCummulative, left_on='date', right_on='date', how='left')\n",
    "    .merge(visitorsADaily, left_on='date', right_on='date', how='left')\n",
    "    .merge(visitorsBDaily, left_on='date', right_on='date', how='left')\n",
    "    .merge(visitorsACummulative, left_on='date', right_on='date', how='left')\n",
    "    .merge(visitorsBCummulative, left_on='date', right_on='date', how='left')\n",
    ")\n",
    "\n",
    "print(data.head(5))\n"
   ]
  },
  {
   "cell_type": "markdown",
   "metadata": {},
   "source": [
    "**date** — дата  \n",
    "**ordersPerDateA** — количество заказов в выбранную дату в группе A  \n",
    "**revenuePerDateA** — суммарная выручка в выбранную дату в группе A  \n",
    "**ordersPerDateB** — количество заказов в выбранную дату в группе B  \n",
    "**revenuePerDateB** — суммарная выручка в выбранную дату в группе B  \n",
    "**ordersCummulativeA** — суммарное число заказов до выбранной даты включительно в группе A  \n",
    "**revenueCummulativeA** — суммарная выручка до выбранной даты включительно в группе A  \n",
    "**ordersCummulativeB** — суммарное количество заказов до выбранной даты включительно в группе B  \n",
    "**revenueCummulativeB** — суммарная выручка до выбранной даты включительно в группе B  \n",
    "**visitorsPerDateA** — количество пользователей в выбранную дату в группе A  \n",
    "**visitorsPerDateB** — количество пользователей в выбранную дату в группе B  \n",
    "**visitorsCummulativeA** — количество пользователей до выбранной даты включительно в группе A  \n",
    "**visitorsCummulativeB** — количество пользователей до выбранной даты включительно в группе B  "
   ]
  },
  {
   "cell_type": "code",
   "execution_count": 113,
   "metadata": {},
   "outputs": [],
   "source": [
    "# переменные, где для пользователей, совершивших хотя бы 1 заказ, будет указано число заказов\n",
    "ordersByUsersA = (\n",
    "    orders[orders['group'] == 'A']\n",
    "    .groupby('visitorId', as_index=False)\n",
    "    .agg({'transactionId': pd.Series.nunique})\n",
    ")\n",
    "ordersByUsersA.columns = ['visitorId', 'orders']\n",
    "\n",
    "ordersByUsersB = (\n",
    "    orders[orders['group'] == 'B']\n",
    "    .groupby('visitorId', as_index=False)\n",
    "    .agg({'transactionId': pd.Series.nunique})\n",
    ")\n",
    "ordersByUsersB.columns = ['visitorId', 'orders'] \n"
   ]
  },
  {
   "cell_type": "code",
   "execution_count": 131,
   "metadata": {},
   "outputs": [],
   "source": [
    "# переменные, в которых пользователям с заказами будет соответствовать число заказов пользователя, \n",
    "# а пользователям без заказов — нули.\n",
    "sampleA = pd.concat([ordersByUsersA['orders'],pd.Series\n",
    "                     (0, index=np.arange(data['visitorsPerDateA'].sum() - len(ordersByUsersA['orders'])), \n",
    "                      name='orders')],axis=0)\n",
    "\n",
    "sampleB = pd.concat([ordersByUsersB['orders'],pd.Series\n",
    "                     (0, index=np.arange(data['visitorsPerDateB'].sum() - len(ordersByUsersB['orders'])), \n",
    "                      name='orders')],axis=0)\n",
    "\n",
    "results = float('{0:.5f}'.format(stats.mannwhitneyu(sampleA, sampleB)[1]))"
   ]
  },
  {
   "cell_type": "markdown",
   "metadata": {},
   "source": [
    "**Нулевая гипотеза:** различий в среднем количестве заказов между группами нет.  \n",
    "**Альтернативная гипотеза:** различия в среднем между группами есть."
   ]
  },
  {
   "cell_type": "code",
   "execution_count": 146,
   "metadata": {},
   "outputs": [
    {
     "name": "stdout",
     "output_type": "stream",
     "text": [
      "p-значение:  0.01102\n",
      "Отвергаем нулевую гипотезу: разница статистически значима, различия в среднем между группами есть.\n",
      "Относительный прирост в среднем количестве заказов:  0.160\n"
     ]
    }
   ],
   "source": [
    "# статистическая значимость различия среднего количества заказов по результатам теста. Тест Манна-Уитни. \n",
    "print('p-значение: ', results)\n",
    "\n",
    "if results < alpha:\n",
    "    print('Отвергаем нулевую гипотезу: разница статистически значима, различия в среднем между группами есть.')\n",
    "else:\n",
    "    print(\n",
    "        'Не получилось отвергнуть нулевую гипотезу, вывод о различии сделать нельзя'\n",
    "    )\n",
    "\n",
    "#  p-value для сравнения среднего между группами.\n",
    "print('Относительный прирост в среднем количестве заказов: ', \"{0:.3f}\".format((data['ordersPerDateB'].sum()/data['visitorsPerDateB'].\n",
    "                        sum())/(data['ordersPerDateA'].sum()/data['visitorsPerDateA'].sum())-1))"
   ]
  },
  {
   "cell_type": "markdown",
   "metadata": {},
   "source": [
    "**Вывод:**  \n",
    "p-value < 0.05, это значит, что различия в среднем между группами есть, нулевая гипотеза отвергается.  \n",
    "Относительный прирост среднего группы В к **среднему количеству** заказов группы А равен 16%."
   ]
  },
  {
   "cell_type": "markdown",
   "metadata": {},
   "source": [
    "### Статистическая значимость различий в среднем чеке заказа между группами по «сырым» данным."
   ]
  },
  {
   "cell_type": "markdown",
   "metadata": {},
   "source": [
    "**Нулевая гипотеза:** средние чеки групп A и B равны, статистически значимых отличий нет.  \n",
    "**Альтернативная гипотеза:** средние чеки групп A и B различны, статистически значимые отличия есть."
   ]
  },
  {
   "cell_type": "code",
   "execution_count": 137,
   "metadata": {},
   "outputs": [
    {
     "name": "stdout",
     "output_type": "stream",
     "text": [
      "p-значение:  0.829\n",
      "Не получилось отвергнуть нулевую гипотезу, вывод о различии сделать нельзя.\n",
      "Относительное различие в среднем чеке:  0.287\n"
     ]
    }
   ],
   "source": [
    "results_1 = float('{0:.3f}'.format(stats.mannwhitneyu(orders[orders['group']=='A']['revenue'], \n",
    "                                                      orders[orders['group']=='B']['revenue'])[1]))\n",
    "print('p-значение: ', results_1)\n",
    "\n",
    "if results_1 < alpha:\n",
    "    print('Отвергаем нулевую гипотезу: разница статистически значима, различия в среднем между группами есть.')\n",
    "else:\n",
    "    print(\n",
    "        'Не получилось отвергнуть нулевую гипотезу, вывод о различии сделать нельзя.'\n",
    "    )\n",
    "\n",
    "print('Относительное различие в среднем чеке: ', '{0:.3f}'.format(orders[orders['group']=='B']['revenue'].mean()/orders[orders['group']=='A']['revenue'].mean()-1)) "
   ]
  },
  {
   "cell_type": "markdown",
   "metadata": {},
   "source": [
    "**Вывод:**  \n",
    "p-value > 0.05, это значит, что средние чеки групп A и B равны, статистически значимых отличий нет, нулевая гипотеза верна.  \n",
    "Относительное различие среднего чека между сегментами примерно 29%."
   ]
  },
  {
   "cell_type": "markdown",
   "metadata": {},
   "source": [
    "### Статистическая значимость различий в среднем количестве заказов на посетителя между группами по «очищенным» данным. "
   ]
  },
  {
   "cell_type": "code",
   "execution_count": null,
   "metadata": {},
   "outputs": [],
   "source": [
    "# предельные кол-во заказов и сумма покупки для формирования списка аномальных пользователей\n",
    "limit_orders = 1\n",
    "limit_revenue = 26785"
   ]
  },
  {
   "cell_type": "code",
   "execution_count": 138,
   "metadata": {},
   "outputs": [
    {
     "name": "stdout",
     "output_type": "stream",
     "text": [
      "Кол-во аномальных пользователей: 86\n",
      "568     113298937\n",
      "1099    148427295\n",
      "928     204675465\n",
      "33      249864742\n",
      "684     358944393\n",
      "Name: visitorId, dtype: int64\n"
     ]
    }
   ],
   "source": [
    "# выявление аномальных пользователей \n",
    "usersWithManyOrders = pd.concat(\n",
    "    [\n",
    "        ordersByUsersA[ordersByUsersA['orders'] > limit_orders]['visitorId'],\n",
    "        ordersByUsersB[ordersByUsersB['orders'] > limit_orders]['visitorId'],\n",
    "    ],\n",
    "    axis=0,\n",
    ")\n",
    "usersWithExpensiveOrders = orders[orders['revenue'] > limit_revenue]['visitorId']\n",
    "abnormalUsers = (\n",
    "    pd.concat([usersWithManyOrders, usersWithExpensiveOrders], axis=0)\n",
    "    .drop_duplicates()\n",
    "    .sort_values()\n",
    ")\n",
    "print('Кол-во аномальных пользователей: {}'.format(len(abnormalUsers)))\n",
    "print(abnormalUsers.head(5))"
   ]
  },
  {
   "cell_type": "markdown",
   "metadata": {},
   "source": [
    "**Нулевая гипотеза:** **среднее количество заказов** групп A и B равны, статистически значимых отличий нет.  \n",
    "**Альтернативная гипотеза:** **среднее количество заказов** групп A и B различны, статистически значимые отличия есть."
   ]
  },
  {
   "cell_type": "code",
   "execution_count": 144,
   "metadata": {},
   "outputs": [
    {
     "name": "stdout",
     "output_type": "stream",
     "text": [
      "p-значение:  0.01593\n",
      "Отвергаем нулевую гипотезу: разница статистически значима, различия в среднем между группами есть.\n",
      "Относительный прирост среднего количества заказов:  0.174\n"
     ]
    }
   ],
   "source": [
    "# очищенные данные о заказах, не включая аномальных пользователей \n",
    "sampleAFiltered = pd.concat(\n",
    "    [\n",
    "        ordersByUsersA[\n",
    "            np.logical_not(ordersByUsersA['visitorId'].isin(abnormalUsers))\n",
    "        ]['orders'],\n",
    "        pd.Series(\n",
    "            0,\n",
    "            index=np.arange(\n",
    "                data['visitorsPerDateA'].sum() - len(ordersByUsersA['orders'])\n",
    "            ),\n",
    "            name='orders',\n",
    "        ),\n",
    "    ],\n",
    "    axis=0,\n",
    ")\n",
    "\n",
    "sampleBFiltered = pd.concat(\n",
    "    [\n",
    "        ordersByUsersB[\n",
    "            np.logical_not(ordersByUsersB['visitorId'].isin(abnormalUsers))\n",
    "        ]['orders'],\n",
    "        pd.Series(\n",
    "            0,\n",
    "            index=np.arange(\n",
    "                data['visitorsPerDateB'].sum() - len(ordersByUsersB['orders'])\n",
    "            ),\n",
    "            name='orders',\n",
    "        ),\n",
    "    ],\n",
    "    axis=0,\n",
    ") \n",
    "\n",
    "results_2 = float('{0:.5f}'.format(stats.mannwhitneyu(sampleAFiltered, sampleBFiltered)[1]))\n",
    "\n",
    "# p-value для сравнения среднего между очищенными группами\n",
    "print('p-значение: ', results_2)\n",
    "\n",
    "if results_2 < alpha:\n",
    "    print('Отвергаем нулевую гипотезу: разница статистически значима, различия в среднем между группами есть.')\n",
    "else:\n",
    "    print(\n",
    "        'Не получилось отвергнуть нулевую гипотезу, вывод о различии сделать нельзя.'\n",
    "    )\n",
    "\n",
    "\n",
    "# относительный прирост среднего очищенной группы B \n",
    "print('Относительный прирост среднего количества заказов: ', '{0:.3f}'.format(sampleBFiltered.mean()/sampleAFiltered.mean()-1)) "
   ]
  },
  {
   "cell_type": "markdown",
   "metadata": {},
   "source": [
    "**Вывод:**  \n",
    "p-value < 0.05, это значит, что **среднее количество заказов** групп A и B различны, статистически значимые отличия есть, нулевая гипотеза отвергается.   \n",
    "Относительный прирост среднего группы В к **среднему количеству заказов** группы А равен 17,4%, что больше на 1,4%, чем на \"сырых\" данных."
   ]
  },
  {
   "cell_type": "markdown",
   "metadata": {},
   "source": [
    "### Статистическая значимость различий в среднем чеке заказа между группами по «очищенным» данным. "
   ]
  },
  {
   "cell_type": "markdown",
   "metadata": {},
   "source": [
    "**Нулевая гипотеза:** **показатели среднего чека** групп A и B равны, статистически значимых отличий нет.  \n",
    "**Альтернативная гипотеза:** **показатели среднего чека**  групп A и B различны, статистически значимые отличия есть."
   ]
  },
  {
   "cell_type": "code",
   "execution_count": 151,
   "metadata": {},
   "outputs": [
    {
     "name": "stdout",
     "output_type": "stream",
     "text": [
      "p-значение:  0.727\n",
      "Не получилось отвергнуть нулевую гипотезу, вывод о различии сделать нельзя.\n",
      "Относительное различие в среднем чеке:  -0.034\n"
     ]
    }
   ],
   "source": [
    "# статистическая значимость различия средних чеков после удаления аномальных пользователей\n",
    "results_3 = float('{0:.3f}'.format(stats.mannwhitneyu(orders[np.logical_and(\n",
    "                    orders['group'] == 'A', np.logical_not(orders['visitorId'].isin(abnormalUsers)),)]['revenue'],\n",
    "            orders[np.logical_and(orders['group'] == 'B', np.logical_not(\n",
    "                orders['visitorId'].isin(abnormalUsers)),)]['revenue'],)[1]))\n",
    "\n",
    "print('p-значение: ', results_3)\n",
    "\n",
    "if results_3 < alpha:\n",
    "    print('Отвергаем нулевую гипотезу: разница статистически значима, различия в среднем между группами есть.')\n",
    "else:\n",
    "    print(\n",
    "        'Не получилось отвергнуть нулевую гипотезу, вывод о различии сделать нельзя.'\n",
    "    )\n",
    "\n",
    "\n",
    "print('Относительное различие в среднем чеке: ', \n",
    "    \"{0:.3f}\".format(\n",
    "        orders[\n",
    "            np.logical_and(\n",
    "                orders['group'] == 'B',\n",
    "                np.logical_not(orders['visitorId'].isin(abnormalUsers)),\n",
    "            )\n",
    "        ]['revenue'].mean()\n",
    "        / orders[\n",
    "            np.logical_and(\n",
    "                orders['group'] == 'A',\n",
    "                np.logical_not(orders['visitorId'].isin(abnormalUsers)),\n",
    "            )\n",
    "        ]['revenue'].mean()\n",
    "        - 1\n",
    "    )\n",
    ") "
   ]
  },
  {
   "cell_type": "markdown",
   "metadata": {},
   "source": [
    "**Вывод:**  \n",
    "p-value > 0.05, несмотря на то, что уменьшился почти на 0.1, нулевая гипотеза верна, статистически значимых отличий по-прежнему нет.  \n",
    "Относительное различие среднего чека между сегментами превратилось с преобладания группы В в 29% на лидерство группы А с разницей с группой В в 3%. Это говорит о том, что аномальные выбросы в \"сырых\" данных исказили результат."
   ]
  },
  {
   "cell_type": "markdown",
   "metadata": {},
   "source": [
    "### Решение по результатам теста."
   ]
  },
  {
   "cell_type": "markdown",
   "metadata": {},
   "source": [
    "**Имеющиеся факты:**  \n",
    "- Статистически значимое различие по **среднему количеству заказов** между группами есть, эта гипотеза подтверждается как по «сырым», так и по данным после фильтрации аномалий. Преимущество группы В составляет примерно 17%.  \n",
    "- Нет статистически значимого различия по **среднему чеку** между группами ни по «сырым», ни по данным после фильтрации аномалий  \n",
    "- График различия **среднего количества заказов** между группами сообщает, что результаты группы B лучше группы A, к концу тестирования результат стабилизирован, тенденции к дальнейшему изменению нет  \n",
    "- График различия **среднего чека** говорит о том, что результаты группы B в целом преобладают над А, группа В сохранила лидерство до конца эксперимента, но это связано с аномальным \"выбросом\" в данных, поэтому дальнейший результат с тенденцией к снижению до результата группы А.\n"
   ]
  },
  {
   "cell_type": "markdown",
   "metadata": {},
   "source": [
    "# Общий вывод."
   ]
  },
  {
   "cell_type": "markdown",
   "metadata": {},
   "source": [
    "Исходя из имеющихся фактов, тест следует остановить и признать его успешным.  \n",
    "Продолжать смысла нет, потому как вероятность, что полученные данные по сегментам кардинально поменяются в следующий месяц, очень маловероятна.  \n",
    "Проведение теста показало, что внедрённые изменения положительно повлияли на группу В, увеличив **среднеее количество заказов** в сравнении с группой А на 17%."
   ]
  }
 ],
 "metadata": {
  "ExecuteTimeLog": [
   {
    "duration": 787,
    "start_time": "2023-04-28T14:26:44.857Z"
   },
   {
    "duration": 506,
    "start_time": "2023-04-28T14:36:20.587Z"
   },
   {
    "duration": 207,
    "start_time": "2023-04-28T14:57:00.718Z"
   },
   {
    "duration": 20,
    "start_time": "2023-04-28T14:59:50.667Z"
   },
   {
    "duration": 8,
    "start_time": "2023-04-28T15:00:21.580Z"
   },
   {
    "duration": 10,
    "start_time": "2023-04-28T15:00:30.663Z"
   },
   {
    "duration": 9,
    "start_time": "2023-04-28T15:00:41.474Z"
   },
   {
    "duration": 4,
    "start_time": "2023-04-28T15:25:04.708Z"
   },
   {
    "duration": 12,
    "start_time": "2023-04-28T15:25:07.472Z"
   },
   {
    "duration": 3,
    "start_time": "2023-04-28T15:27:46.385Z"
   },
   {
    "duration": 12,
    "start_time": "2023-04-28T15:27:48.981Z"
   },
   {
    "duration": 14,
    "start_time": "2023-04-28T15:30:00.729Z"
   },
   {
    "duration": 11,
    "start_time": "2023-04-28T15:30:31.276Z"
   },
   {
    "duration": 6,
    "start_time": "2023-04-28T15:31:20.906Z"
   },
   {
    "duration": 6,
    "start_time": "2023-04-28T15:31:41.159Z"
   },
   {
    "duration": 2,
    "start_time": "2023-04-28T15:35:46.015Z"
   },
   {
    "duration": 92,
    "start_time": "2023-04-28T15:36:36.245Z"
   },
   {
    "duration": 75,
    "start_time": "2023-04-28T15:36:51.876Z"
   },
   {
    "duration": 3,
    "start_time": "2023-04-28T15:36:53.298Z"
   },
   {
    "duration": 13,
    "start_time": "2023-04-28T15:36:58.902Z"
   },
   {
    "duration": 12,
    "start_time": "2023-04-28T15:37:32.607Z"
   },
   {
    "duration": 6,
    "start_time": "2023-04-28T15:38:09.011Z"
   },
   {
    "duration": 7,
    "start_time": "2023-04-28T15:38:32.585Z"
   },
   {
    "duration": 6,
    "start_time": "2023-04-28T15:43:18.412Z"
   },
   {
    "duration": 36,
    "start_time": "2023-04-28T15:44:54.611Z"
   },
   {
    "duration": 1191,
    "start_time": "2023-04-28T15:57:12.726Z"
   },
   {
    "duration": 11,
    "start_time": "2023-04-28T15:58:34.604Z"
   },
   {
    "duration": 5,
    "start_time": "2023-04-28T16:00:24.041Z"
   },
   {
    "duration": 15,
    "start_time": "2023-04-28T16:00:46.208Z"
   },
   {
    "duration": 15,
    "start_time": "2023-04-28T16:02:48.503Z"
   },
   {
    "duration": 15,
    "start_time": "2023-04-28T16:02:59.007Z"
   },
   {
    "duration": 11,
    "start_time": "2023-04-28T16:05:03.207Z"
   },
   {
    "duration": 10,
    "start_time": "2023-04-28T16:06:56.976Z"
   },
   {
    "duration": 81,
    "start_time": "2023-04-28T16:08:32.067Z"
   },
   {
    "duration": 50,
    "start_time": "2023-04-28T16:09:53.313Z"
   },
   {
    "duration": 13,
    "start_time": "2023-04-28T16:10:28.238Z"
   },
   {
    "duration": 9,
    "start_time": "2023-04-28T16:11:03.943Z"
   },
   {
    "duration": 11,
    "start_time": "2023-04-28T16:11:12.999Z"
   },
   {
    "duration": 4,
    "start_time": "2023-04-28T16:26:07.873Z"
   },
   {
    "duration": 5,
    "start_time": "2023-04-28T16:26:47.556Z"
   },
   {
    "duration": 6,
    "start_time": "2023-04-28T16:28:10.510Z"
   },
   {
    "duration": 12,
    "start_time": "2023-04-28T16:29:13.254Z"
   },
   {
    "duration": 5,
    "start_time": "2023-04-28T16:33:18.964Z"
   },
   {
    "duration": 33,
    "start_time": "2023-04-28T16:33:25.600Z"
   },
   {
    "duration": 4,
    "start_time": "2023-04-28T16:33:37.993Z"
   },
   {
    "duration": 6,
    "start_time": "2023-04-28T16:34:19.352Z"
   },
   {
    "duration": 6,
    "start_time": "2023-04-28T16:34:40.975Z"
   },
   {
    "duration": 76,
    "start_time": "2023-04-28T16:42:38.821Z"
   },
   {
    "duration": 5,
    "start_time": "2023-04-28T16:43:03.538Z"
   },
   {
    "duration": 6,
    "start_time": "2023-04-28T16:43:59.548Z"
   },
   {
    "duration": 11,
    "start_time": "2023-04-28T16:46:34.956Z"
   },
   {
    "duration": 6,
    "start_time": "2023-04-28T16:48:59.405Z"
   },
   {
    "duration": 17,
    "start_time": "2023-04-28T16:49:42.444Z"
   },
   {
    "duration": 4,
    "start_time": "2023-04-28T16:49:48.649Z"
   },
   {
    "duration": 75,
    "start_time": "2023-04-28T18:36:49.447Z"
   },
   {
    "duration": 6,
    "start_time": "2023-04-28T18:39:33.664Z"
   },
   {
    "duration": 53,
    "start_time": "2023-05-01T14:45:53.928Z"
   },
   {
    "duration": 8,
    "start_time": "2023-05-01T14:46:46.224Z"
   },
   {
    "duration": 10,
    "start_time": "2023-05-01T14:48:02.455Z"
   },
   {
    "duration": 9,
    "start_time": "2023-05-01T14:57:59.863Z"
   },
   {
    "duration": 8,
    "start_time": "2023-05-01T14:58:19.941Z"
   },
   {
    "duration": 859,
    "start_time": "2023-05-01T14:58:38.442Z"
   },
   {
    "duration": 203,
    "start_time": "2023-05-01T14:58:39.309Z"
   },
   {
    "duration": 4,
    "start_time": "2023-05-01T14:58:39.513Z"
   },
   {
    "duration": 21,
    "start_time": "2023-05-01T14:58:39.520Z"
   },
   {
    "duration": 14,
    "start_time": "2023-05-01T14:58:39.543Z"
   },
   {
    "duration": 17,
    "start_time": "2023-05-01T14:58:39.560Z"
   },
   {
    "duration": 28,
    "start_time": "2023-05-01T14:58:39.579Z"
   },
   {
    "duration": 6,
    "start_time": "2023-05-01T14:58:39.613Z"
   },
   {
    "duration": 6,
    "start_time": "2023-05-01T14:58:39.621Z"
   },
   {
    "duration": 15,
    "start_time": "2023-05-01T14:58:39.630Z"
   },
   {
    "duration": 12,
    "start_time": "2023-05-01T14:58:39.647Z"
   },
   {
    "duration": 11,
    "start_time": "2023-05-01T14:58:39.700Z"
   },
   {
    "duration": 8,
    "start_time": "2023-05-01T14:58:39.713Z"
   },
   {
    "duration": 14,
    "start_time": "2023-05-01T14:58:39.722Z"
   },
   {
    "duration": 11,
    "start_time": "2023-05-01T14:58:39.738Z"
   },
   {
    "duration": 64,
    "start_time": "2023-05-01T14:58:39.751Z"
   },
   {
    "duration": 12,
    "start_time": "2023-05-01T14:58:39.817Z"
   },
   {
    "duration": 564,
    "start_time": "2023-05-01T14:58:39.831Z"
   },
   {
    "duration": 18,
    "start_time": "2023-05-01T14:58:40.401Z"
   },
   {
    "duration": 22,
    "start_time": "2023-05-01T14:58:40.421Z"
   },
   {
    "duration": 74,
    "start_time": "2023-05-01T15:02:56.380Z"
   },
   {
    "duration": 11,
    "start_time": "2023-05-01T15:03:55.955Z"
   },
   {
    "duration": 11,
    "start_time": "2023-05-01T15:14:23.665Z"
   },
   {
    "duration": 4,
    "start_time": "2023-05-01T15:36:00.763Z"
   },
   {
    "duration": 94,
    "start_time": "2023-05-01T15:36:00.770Z"
   },
   {
    "duration": 3,
    "start_time": "2023-05-01T15:36:00.866Z"
   },
   {
    "duration": 35,
    "start_time": "2023-05-01T15:36:00.871Z"
   },
   {
    "duration": 39,
    "start_time": "2023-05-01T15:36:00.909Z"
   },
   {
    "duration": 39,
    "start_time": "2023-05-01T15:36:00.951Z"
   },
   {
    "duration": 23,
    "start_time": "2023-05-01T15:36:00.993Z"
   },
   {
    "duration": 29,
    "start_time": "2023-05-01T15:36:01.018Z"
   },
   {
    "duration": 37,
    "start_time": "2023-05-01T15:36:01.049Z"
   },
   {
    "duration": 36,
    "start_time": "2023-05-01T15:36:01.088Z"
   },
   {
    "duration": 22,
    "start_time": "2023-05-01T15:36:01.126Z"
   },
   {
    "duration": 24,
    "start_time": "2023-05-01T15:36:01.151Z"
   },
   {
    "duration": 26,
    "start_time": "2023-05-01T15:36:01.177Z"
   },
   {
    "duration": 23,
    "start_time": "2023-05-01T15:36:01.207Z"
   },
   {
    "duration": 31,
    "start_time": "2023-05-01T15:36:01.233Z"
   },
   {
    "duration": 75,
    "start_time": "2023-05-01T15:36:01.267Z"
   },
   {
    "duration": 15,
    "start_time": "2023-05-01T15:36:01.344Z"
   },
   {
    "duration": 33,
    "start_time": "2023-05-01T15:36:01.361Z"
   },
   {
    "duration": 57,
    "start_time": "2023-05-01T15:36:01.396Z"
   },
   {
    "duration": 35,
    "start_time": "2023-05-01T15:36:01.455Z"
   },
   {
    "duration": 52,
    "start_time": "2023-05-01T15:36:01.492Z"
   },
   {
    "duration": 4,
    "start_time": "2023-05-01T15:36:38.706Z"
   },
   {
    "duration": 4,
    "start_time": "2023-05-01T15:36:43.090Z"
   },
   {
    "duration": 65,
    "start_time": "2023-05-01T15:36:43.097Z"
   },
   {
    "duration": 3,
    "start_time": "2023-05-01T15:36:43.165Z"
   },
   {
    "duration": 21,
    "start_time": "2023-05-01T15:36:43.170Z"
   },
   {
    "duration": 28,
    "start_time": "2023-05-01T15:36:43.194Z"
   },
   {
    "duration": 18,
    "start_time": "2023-05-01T15:36:43.224Z"
   },
   {
    "duration": 13,
    "start_time": "2023-05-01T15:36:43.244Z"
   },
   {
    "duration": 7,
    "start_time": "2023-05-01T15:36:43.258Z"
   },
   {
    "duration": 6,
    "start_time": "2023-05-01T15:36:43.267Z"
   },
   {
    "duration": 13,
    "start_time": "2023-05-01T15:36:43.293Z"
   },
   {
    "duration": 11,
    "start_time": "2023-05-01T15:36:43.309Z"
   },
   {
    "duration": 6,
    "start_time": "2023-05-01T15:36:43.321Z"
   },
   {
    "duration": 7,
    "start_time": "2023-05-01T15:36:43.328Z"
   },
   {
    "duration": 7,
    "start_time": "2023-05-01T15:36:43.337Z"
   },
   {
    "duration": 51,
    "start_time": "2023-05-01T15:36:43.345Z"
   },
   {
    "duration": 31,
    "start_time": "2023-05-01T15:36:43.398Z"
   },
   {
    "duration": 6,
    "start_time": "2023-05-01T15:36:43.430Z"
   },
   {
    "duration": 19,
    "start_time": "2023-05-01T15:36:43.438Z"
   },
   {
    "duration": 41,
    "start_time": "2023-05-01T15:36:43.459Z"
   },
   {
    "duration": 10,
    "start_time": "2023-05-01T15:36:43.502Z"
   },
   {
    "duration": 26,
    "start_time": "2023-05-01T15:36:43.514Z"
   },
   {
    "duration": 7,
    "start_time": "2023-05-01T15:45:42.215Z"
   },
   {
    "duration": 6,
    "start_time": "2023-05-01T15:45:52.903Z"
   },
   {
    "duration": 10,
    "start_time": "2023-05-01T16:27:09.726Z"
   },
   {
    "duration": 13,
    "start_time": "2023-05-01T16:28:02.334Z"
   },
   {
    "duration": 8,
    "start_time": "2023-05-01T16:28:09.484Z"
   },
   {
    "duration": 6,
    "start_time": "2023-05-01T16:29:34.976Z"
   },
   {
    "duration": 7,
    "start_time": "2023-05-01T16:29:38.086Z"
   },
   {
    "duration": 10,
    "start_time": "2023-05-01T16:30:01.007Z"
   },
   {
    "duration": 9,
    "start_time": "2023-05-01T16:30:08.181Z"
   },
   {
    "duration": 8,
    "start_time": "2023-05-01T16:30:47.038Z"
   },
   {
    "duration": 7,
    "start_time": "2023-05-01T16:30:57.310Z"
   },
   {
    "duration": 8,
    "start_time": "2023-05-01T17:40:40.505Z"
   },
   {
    "duration": 33,
    "start_time": "2023-05-01T17:44:09.273Z"
   },
   {
    "duration": 317,
    "start_time": "2023-05-01T17:46:32.265Z"
   },
   {
    "duration": 294,
    "start_time": "2023-05-01T17:55:06.713Z"
   },
   {
    "duration": 290,
    "start_time": "2023-05-01T17:55:36.328Z"
   },
   {
    "duration": 4,
    "start_time": "2023-05-01T17:58:49.018Z"
   },
   {
    "duration": 62,
    "start_time": "2023-05-01T17:58:49.024Z"
   },
   {
    "duration": 3,
    "start_time": "2023-05-01T17:58:49.088Z"
   },
   {
    "duration": 31,
    "start_time": "2023-05-01T17:58:49.093Z"
   },
   {
    "duration": 12,
    "start_time": "2023-05-01T17:58:49.128Z"
   },
   {
    "duration": 27,
    "start_time": "2023-05-01T17:58:49.142Z"
   },
   {
    "duration": 9,
    "start_time": "2023-05-01T17:58:49.171Z"
   },
   {
    "duration": 13,
    "start_time": "2023-05-01T17:58:49.182Z"
   },
   {
    "duration": 22,
    "start_time": "2023-05-01T17:58:49.197Z"
   },
   {
    "duration": 15,
    "start_time": "2023-05-01T17:58:49.222Z"
   },
   {
    "duration": 22,
    "start_time": "2023-05-01T17:58:49.239Z"
   },
   {
    "duration": 9,
    "start_time": "2023-05-01T17:58:49.263Z"
   },
   {
    "duration": 6,
    "start_time": "2023-05-01T17:58:49.274Z"
   },
   {
    "duration": 9,
    "start_time": "2023-05-01T17:58:49.292Z"
   },
   {
    "duration": 9,
    "start_time": "2023-05-01T17:58:49.302Z"
   },
   {
    "duration": 31,
    "start_time": "2023-05-01T17:58:49.312Z"
   },
   {
    "duration": 5,
    "start_time": "2023-05-01T17:58:49.345Z"
   },
   {
    "duration": 13,
    "start_time": "2023-05-01T17:58:49.352Z"
   },
   {
    "duration": 35,
    "start_time": "2023-05-01T17:58:49.367Z"
   },
   {
    "duration": 11,
    "start_time": "2023-05-01T17:58:49.403Z"
   },
   {
    "duration": 6,
    "start_time": "2023-05-01T17:58:49.415Z"
   },
   {
    "duration": 15,
    "start_time": "2023-05-01T17:58:49.422Z"
   },
   {
    "duration": 8,
    "start_time": "2023-05-01T17:58:49.439Z"
   },
   {
    "duration": 337,
    "start_time": "2023-05-01T17:58:49.448Z"
   },
   {
    "duration": 9,
    "start_time": "2023-05-01T17:58:49.787Z"
   },
   {
    "duration": 8,
    "start_time": "2023-05-01T17:58:49.798Z"
   },
   {
    "duration": 291,
    "start_time": "2023-05-01T18:00:43.982Z"
   },
   {
    "duration": 248,
    "start_time": "2023-05-01T18:03:32.053Z"
   },
   {
    "duration": 4,
    "start_time": "2023-05-01T18:05:56.350Z"
   },
   {
    "duration": 60,
    "start_time": "2023-05-01T18:05:56.356Z"
   },
   {
    "duration": 72,
    "start_time": "2023-05-01T18:05:56.418Z"
   },
   {
    "duration": 3,
    "start_time": "2023-05-01T18:05:56.492Z"
   },
   {
    "duration": 10,
    "start_time": "2023-05-01T18:05:56.497Z"
   },
   {
    "duration": 12,
    "start_time": "2023-05-01T18:05:56.508Z"
   },
   {
    "duration": 16,
    "start_time": "2023-05-01T18:05:56.521Z"
   },
   {
    "duration": 9,
    "start_time": "2023-05-01T18:05:56.539Z"
   },
   {
    "duration": 5,
    "start_time": "2023-05-01T18:05:56.550Z"
   },
   {
    "duration": 42,
    "start_time": "2023-05-01T18:05:56.557Z"
   },
   {
    "duration": 18,
    "start_time": "2023-05-01T18:05:56.601Z"
   },
   {
    "duration": 10,
    "start_time": "2023-05-01T18:05:56.621Z"
   },
   {
    "duration": 10,
    "start_time": "2023-05-01T18:05:56.633Z"
   },
   {
    "duration": 12,
    "start_time": "2023-05-01T18:05:56.645Z"
   },
   {
    "duration": 6,
    "start_time": "2023-05-01T18:05:56.658Z"
   },
   {
    "duration": 11,
    "start_time": "2023-05-01T18:05:56.666Z"
   },
   {
    "duration": 37,
    "start_time": "2023-05-01T18:05:56.678Z"
   },
   {
    "duration": 5,
    "start_time": "2023-05-01T18:05:56.717Z"
   },
   {
    "duration": 11,
    "start_time": "2023-05-01T18:05:56.723Z"
   },
   {
    "duration": 14,
    "start_time": "2023-05-01T18:05:56.736Z"
   },
   {
    "duration": 1161,
    "start_time": "2023-05-01T18:05:56.752Z"
   },
   {
    "duration": 0,
    "start_time": "2023-05-01T18:05:57.915Z"
   },
   {
    "duration": 0,
    "start_time": "2023-05-01T18:05:57.916Z"
   },
   {
    "duration": 1,
    "start_time": "2023-05-01T18:05:57.916Z"
   },
   {
    "duration": 0,
    "start_time": "2023-05-01T18:05:57.918Z"
   },
   {
    "duration": 0,
    "start_time": "2023-05-01T18:05:57.919Z"
   },
   {
    "duration": 0,
    "start_time": "2023-05-01T18:05:57.920Z"
   },
   {
    "duration": 0,
    "start_time": "2023-05-01T18:05:57.921Z"
   },
   {
    "duration": 254,
    "start_time": "2023-05-01T18:06:10.912Z"
   },
   {
    "duration": 14,
    "start_time": "2023-05-01T18:07:34.323Z"
   },
   {
    "duration": 60,
    "start_time": "2023-05-01T18:08:40.068Z"
   },
   {
    "duration": 58,
    "start_time": "2023-05-01T18:08:40.130Z"
   },
   {
    "duration": 66,
    "start_time": "2023-05-01T18:08:40.190Z"
   },
   {
    "duration": 3,
    "start_time": "2023-05-01T18:08:40.258Z"
   },
   {
    "duration": 10,
    "start_time": "2023-05-01T18:08:40.263Z"
   },
   {
    "duration": 10,
    "start_time": "2023-05-01T18:08:40.275Z"
   },
   {
    "duration": 20,
    "start_time": "2023-05-01T18:08:40.286Z"
   },
   {
    "duration": 10,
    "start_time": "2023-05-01T18:08:40.308Z"
   },
   {
    "duration": 6,
    "start_time": "2023-05-01T18:08:40.319Z"
   },
   {
    "duration": 6,
    "start_time": "2023-05-01T18:08:40.327Z"
   },
   {
    "duration": 10,
    "start_time": "2023-05-01T18:08:40.335Z"
   },
   {
    "duration": 20,
    "start_time": "2023-05-01T18:08:40.347Z"
   },
   {
    "duration": 27,
    "start_time": "2023-05-01T18:08:40.368Z"
   },
   {
    "duration": 6,
    "start_time": "2023-05-01T18:08:40.397Z"
   },
   {
    "duration": 6,
    "start_time": "2023-05-01T18:08:40.404Z"
   },
   {
    "duration": 4,
    "start_time": "2023-05-01T18:08:40.412Z"
   },
   {
    "duration": 30,
    "start_time": "2023-05-01T18:08:40.418Z"
   },
   {
    "duration": 4,
    "start_time": "2023-05-01T18:08:40.450Z"
   },
   {
    "duration": 41,
    "start_time": "2023-05-01T18:08:40.456Z"
   },
   {
    "duration": 10,
    "start_time": "2023-05-01T18:08:40.499Z"
   },
   {
    "duration": 1123,
    "start_time": "2023-05-01T18:08:40.511Z"
   },
   {
    "duration": 0,
    "start_time": "2023-05-01T18:08:41.636Z"
   },
   {
    "duration": 0,
    "start_time": "2023-05-01T18:08:41.637Z"
   },
   {
    "duration": 0,
    "start_time": "2023-05-01T18:08:41.638Z"
   },
   {
    "duration": 0,
    "start_time": "2023-05-01T18:08:41.639Z"
   },
   {
    "duration": 0,
    "start_time": "2023-05-01T18:08:41.640Z"
   },
   {
    "duration": 0,
    "start_time": "2023-05-01T18:08:41.641Z"
   },
   {
    "duration": 0,
    "start_time": "2023-05-01T18:08:41.643Z"
   },
   {
    "duration": 316,
    "start_time": "2023-05-01T18:08:59.415Z"
   },
   {
    "duration": 330,
    "start_time": "2023-05-01T18:10:55.236Z"
   },
   {
    "duration": 1117,
    "start_time": "2023-05-01T18:11:35.771Z"
   },
   {
    "duration": 10,
    "start_time": "2023-05-01T18:16:03.463Z"
   },
   {
    "duration": 30,
    "start_time": "2023-05-01T18:16:11.221Z"
   },
   {
    "duration": 1348,
    "start_time": "2023-05-01T18:21:13.271Z"
   },
   {
    "duration": 1204,
    "start_time": "2023-05-01T18:24:02.315Z"
   },
   {
    "duration": 16,
    "start_time": "2023-05-01T18:25:39.388Z"
   },
   {
    "duration": 3,
    "start_time": "2023-05-01T18:27:08.301Z"
   },
   {
    "duration": 5,
    "start_time": "2023-05-01T18:27:15.607Z"
   },
   {
    "duration": 72,
    "start_time": "2023-05-01T18:27:15.614Z"
   },
   {
    "duration": 3,
    "start_time": "2023-05-01T18:27:15.687Z"
   },
   {
    "duration": 5,
    "start_time": "2023-05-01T18:27:15.692Z"
   },
   {
    "duration": 13,
    "start_time": "2023-05-01T18:27:15.699Z"
   },
   {
    "duration": 16,
    "start_time": "2023-05-01T18:27:15.714Z"
   },
   {
    "duration": 14,
    "start_time": "2023-05-01T18:27:15.732Z"
   },
   {
    "duration": 10,
    "start_time": "2023-05-01T18:27:15.748Z"
   },
   {
    "duration": 11,
    "start_time": "2023-05-01T18:27:15.759Z"
   },
   {
    "duration": 23,
    "start_time": "2023-05-01T18:27:15.772Z"
   },
   {
    "duration": 19,
    "start_time": "2023-05-01T18:27:15.797Z"
   },
   {
    "duration": 9,
    "start_time": "2023-05-01T18:27:15.818Z"
   },
   {
    "duration": 7,
    "start_time": "2023-05-01T18:27:15.829Z"
   },
   {
    "duration": 10,
    "start_time": "2023-05-01T18:27:15.837Z"
   },
   {
    "duration": 15,
    "start_time": "2023-05-01T18:27:15.849Z"
   },
   {
    "duration": 10,
    "start_time": "2023-05-01T18:27:15.866Z"
   },
   {
    "duration": 28,
    "start_time": "2023-05-01T18:27:15.893Z"
   },
   {
    "duration": 6,
    "start_time": "2023-05-01T18:27:15.923Z"
   },
   {
    "duration": 16,
    "start_time": "2023-05-01T18:27:15.930Z"
   },
   {
    "duration": 13,
    "start_time": "2023-05-01T18:27:15.948Z"
   },
   {
    "duration": 1211,
    "start_time": "2023-05-01T18:27:15.963Z"
   },
   {
    "duration": 0,
    "start_time": "2023-05-01T18:27:17.176Z"
   },
   {
    "duration": 0,
    "start_time": "2023-05-01T18:27:17.177Z"
   },
   {
    "duration": 0,
    "start_time": "2023-05-01T18:27:17.178Z"
   },
   {
    "duration": 0,
    "start_time": "2023-05-01T18:27:17.179Z"
   },
   {
    "duration": 0,
    "start_time": "2023-05-01T18:27:17.180Z"
   },
   {
    "duration": 0,
    "start_time": "2023-05-01T18:27:17.181Z"
   },
   {
    "duration": 0,
    "start_time": "2023-05-01T18:27:17.182Z"
   },
   {
    "duration": 14,
    "start_time": "2023-05-01T18:27:43.328Z"
   },
   {
    "duration": 5,
    "start_time": "2023-05-01T18:28:01.461Z"
   },
   {
    "duration": 12,
    "start_time": "2023-05-01T18:28:02.121Z"
   },
   {
    "duration": 8,
    "start_time": "2023-05-01T18:28:03.085Z"
   },
   {
    "duration": 293,
    "start_time": "2023-05-01T18:28:40.034Z"
   },
   {
    "duration": 326,
    "start_time": "2023-05-01T18:28:49.728Z"
   },
   {
    "duration": 436,
    "start_time": "2023-05-01T18:32:40.089Z"
   },
   {
    "duration": 361,
    "start_time": "2023-05-01T18:45:39.217Z"
   },
   {
    "duration": 500,
    "start_time": "2023-05-01T19:03:21.896Z"
   },
   {
    "duration": 461,
    "start_time": "2023-05-01T19:16:41.681Z"
   },
   {
    "duration": 370,
    "start_time": "2023-05-01T19:17:20.755Z"
   },
   {
    "duration": 459,
    "start_time": "2023-05-01T19:21:56.327Z"
   },
   {
    "duration": 484,
    "start_time": "2023-05-01T19:22:25.386Z"
   },
   {
    "duration": 79,
    "start_time": "2023-05-01T19:22:43.273Z"
   },
   {
    "duration": 79,
    "start_time": "2023-05-01T19:22:54.565Z"
   },
   {
    "duration": 86,
    "start_time": "2023-05-01T19:23:00.631Z"
   },
   {
    "duration": 466,
    "start_time": "2023-05-01T19:23:17.684Z"
   },
   {
    "duration": 539,
    "start_time": "2023-05-01T19:24:11.068Z"
   },
   {
    "duration": 539,
    "start_time": "2023-05-01T19:24:36.972Z"
   },
   {
    "duration": 535,
    "start_time": "2023-05-01T19:25:25.980Z"
   },
   {
    "duration": 442,
    "start_time": "2023-05-01T19:30:06.529Z"
   },
   {
    "duration": 435,
    "start_time": "2023-05-01T19:31:38.542Z"
   },
   {
    "duration": 573,
    "start_time": "2023-05-01T19:31:54.914Z"
   },
   {
    "duration": 9,
    "start_time": "2023-05-01T19:37:02.137Z"
   },
   {
    "duration": 321,
    "start_time": "2023-05-01T19:37:56.720Z"
   },
   {
    "duration": 9,
    "start_time": "2023-05-01T19:38:37.973Z"
   },
   {
    "duration": 10,
    "start_time": "2023-05-01T19:40:15.919Z"
   },
   {
    "duration": 250,
    "start_time": "2023-05-01T19:40:52.125Z"
   },
   {
    "duration": 5,
    "start_time": "2023-05-01T19:46:35.617Z"
   },
   {
    "duration": 52,
    "start_time": "2023-05-02T12:35:23.129Z"
   },
   {
    "duration": 1407,
    "start_time": "2023-05-02T12:35:41.787Z"
   },
   {
    "duration": 228,
    "start_time": "2023-05-02T12:35:43.196Z"
   },
   {
    "duration": 8,
    "start_time": "2023-05-02T12:35:43.425Z"
   },
   {
    "duration": 5,
    "start_time": "2023-05-02T12:35:43.435Z"
   },
   {
    "duration": 18,
    "start_time": "2023-05-02T12:35:43.441Z"
   },
   {
    "duration": 11,
    "start_time": "2023-05-02T12:35:43.460Z"
   },
   {
    "duration": 20,
    "start_time": "2023-05-02T12:35:43.472Z"
   },
   {
    "duration": 18,
    "start_time": "2023-05-02T12:35:43.494Z"
   },
   {
    "duration": 18,
    "start_time": "2023-05-02T12:35:43.513Z"
   },
   {
    "duration": 21,
    "start_time": "2023-05-02T12:35:43.534Z"
   },
   {
    "duration": 18,
    "start_time": "2023-05-02T12:35:43.557Z"
   },
   {
    "duration": 13,
    "start_time": "2023-05-02T12:35:43.576Z"
   },
   {
    "duration": 9,
    "start_time": "2023-05-02T12:35:43.590Z"
   },
   {
    "duration": 17,
    "start_time": "2023-05-02T12:35:43.600Z"
   },
   {
    "duration": 8,
    "start_time": "2023-05-02T12:35:43.618Z"
   },
   {
    "duration": 17,
    "start_time": "2023-05-02T12:35:43.627Z"
   },
   {
    "duration": 32,
    "start_time": "2023-05-02T12:35:43.645Z"
   },
   {
    "duration": 5,
    "start_time": "2023-05-02T12:35:43.679Z"
   },
   {
    "duration": 56,
    "start_time": "2023-05-02T12:35:43.685Z"
   },
   {
    "duration": 15,
    "start_time": "2023-05-02T12:35:43.742Z"
   },
   {
    "duration": 22,
    "start_time": "2023-05-02T12:35:43.758Z"
   },
   {
    "duration": 11,
    "start_time": "2023-05-02T12:35:43.782Z"
   },
   {
    "duration": 17,
    "start_time": "2023-05-02T12:35:43.794Z"
   },
   {
    "duration": 309,
    "start_time": "2023-05-02T12:35:43.812Z"
   },
   {
    "duration": 490,
    "start_time": "2023-05-02T12:35:44.122Z"
   },
   {
    "duration": 335,
    "start_time": "2023-05-02T12:35:44.614Z"
   },
   {
    "duration": 482,
    "start_time": "2023-05-02T12:35:44.951Z"
   },
   {
    "duration": 357,
    "start_time": "2023-05-02T12:35:45.436Z"
   },
   {
    "duration": 434,
    "start_time": "2023-05-02T12:35:45.795Z"
   },
   {
    "duration": 18,
    "start_time": "2023-05-02T12:35:46.231Z"
   },
   {
    "duration": 240,
    "start_time": "2023-05-02T12:35:46.250Z"
   },
   {
    "duration": 4,
    "start_time": "2023-05-02T12:35:46.492Z"
   },
   {
    "duration": 24,
    "start_time": "2023-05-02T12:35:46.498Z"
   },
   {
    "duration": 9,
    "start_time": "2023-05-02T12:35:46.524Z"
   },
   {
    "duration": 17,
    "start_time": "2023-05-02T12:35:46.535Z"
   },
   {
    "duration": 220,
    "start_time": "2023-05-02T12:40:42.068Z"
   },
   {
    "duration": 410,
    "start_time": "2023-05-02T12:42:32.085Z"
   },
   {
    "duration": 361,
    "start_time": "2023-05-02T12:42:59.831Z"
   },
   {
    "duration": 348,
    "start_time": "2023-05-02T12:43:27.348Z"
   },
   {
    "duration": 369,
    "start_time": "2023-05-02T12:43:46.130Z"
   },
   {
    "duration": 342,
    "start_time": "2023-05-02T12:43:55.446Z"
   },
   {
    "duration": 365,
    "start_time": "2023-05-02T12:44:06.931Z"
   },
   {
    "duration": 383,
    "start_time": "2023-05-02T12:44:24.531Z"
   },
   {
    "duration": 4,
    "start_time": "2023-05-02T12:48:08.813Z"
   },
   {
    "duration": 157,
    "start_time": "2023-05-02T13:07:41.740Z"
   },
   {
    "duration": 102,
    "start_time": "2023-05-02T13:09:01.470Z"
   },
   {
    "duration": 98,
    "start_time": "2023-05-02T13:10:03.995Z"
   },
   {
    "duration": 196,
    "start_time": "2023-05-02T13:10:48.564Z"
   },
   {
    "duration": 139,
    "start_time": "2023-05-02T13:13:30.166Z"
   },
   {
    "duration": 124,
    "start_time": "2023-05-02T13:15:07.009Z"
   },
   {
    "duration": 6,
    "start_time": "2023-05-02T13:16:32.844Z"
   },
   {
    "duration": 6,
    "start_time": "2023-05-02T13:16:47.859Z"
   },
   {
    "duration": 6,
    "start_time": "2023-05-02T13:17:55.903Z"
   },
   {
    "duration": 22,
    "start_time": "2023-05-02T13:20:47.242Z"
   },
   {
    "duration": 10,
    "start_time": "2023-05-02T13:47:29.748Z"
   },
   {
    "duration": 3,
    "start_time": "2023-05-02T14:00:39.329Z"
   },
   {
    "duration": 9,
    "start_time": "2023-05-02T14:04:16.651Z"
   },
   {
    "duration": 9,
    "start_time": "2023-05-02T14:05:59.315Z"
   },
   {
    "duration": 9,
    "start_time": "2023-05-02T14:06:56.633Z"
   },
   {
    "duration": 12,
    "start_time": "2023-05-02T14:14:34.459Z"
   },
   {
    "duration": 10,
    "start_time": "2023-05-02T14:15:00.144Z"
   },
   {
    "duration": 9,
    "start_time": "2023-05-02T14:17:12.048Z"
   },
   {
    "duration": 27,
    "start_time": "2023-05-02T14:18:38.001Z"
   },
   {
    "duration": 26,
    "start_time": "2023-05-02T14:20:35.219Z"
   },
   {
    "duration": 110,
    "start_time": "2023-05-02T14:31:37.457Z"
   },
   {
    "duration": 12,
    "start_time": "2023-05-02T14:34:46.326Z"
   },
   {
    "duration": 3,
    "start_time": "2023-05-02T15:45:37.748Z"
   },
   {
    "duration": 82,
    "start_time": "2023-05-02T15:45:37.753Z"
   },
   {
    "duration": 2,
    "start_time": "2023-05-02T15:45:37.837Z"
   },
   {
    "duration": 10,
    "start_time": "2023-05-02T15:45:37.840Z"
   },
   {
    "duration": 13,
    "start_time": "2023-05-02T15:45:37.852Z"
   },
   {
    "duration": 19,
    "start_time": "2023-05-02T15:45:37.866Z"
   },
   {
    "duration": 14,
    "start_time": "2023-05-02T15:45:37.887Z"
   },
   {
    "duration": 18,
    "start_time": "2023-05-02T15:45:37.903Z"
   },
   {
    "duration": 12,
    "start_time": "2023-05-02T15:45:37.922Z"
   },
   {
    "duration": 10,
    "start_time": "2023-05-02T15:45:37.936Z"
   },
   {
    "duration": 12,
    "start_time": "2023-05-02T15:45:37.948Z"
   },
   {
    "duration": 18,
    "start_time": "2023-05-02T15:45:37.961Z"
   },
   {
    "duration": 14,
    "start_time": "2023-05-02T15:45:37.981Z"
   },
   {
    "duration": 11,
    "start_time": "2023-05-02T15:45:37.996Z"
   },
   {
    "duration": 14,
    "start_time": "2023-05-02T15:45:38.009Z"
   },
   {
    "duration": 19,
    "start_time": "2023-05-02T15:45:38.025Z"
   },
   {
    "duration": 28,
    "start_time": "2023-05-02T15:45:38.046Z"
   },
   {
    "duration": 5,
    "start_time": "2023-05-02T15:45:38.076Z"
   },
   {
    "duration": 20,
    "start_time": "2023-05-02T15:45:38.083Z"
   },
   {
    "duration": 12,
    "start_time": "2023-05-02T15:45:38.105Z"
   },
   {
    "duration": 9,
    "start_time": "2023-05-02T15:45:38.119Z"
   },
   {
    "duration": 21,
    "start_time": "2023-05-02T15:45:38.129Z"
   },
   {
    "duration": 9,
    "start_time": "2023-05-02T15:45:38.152Z"
   },
   {
    "duration": 302,
    "start_time": "2023-05-02T15:45:38.162Z"
   },
   {
    "duration": 358,
    "start_time": "2023-05-02T15:45:38.465Z"
   },
   {
    "duration": 339,
    "start_time": "2023-05-02T15:45:38.824Z"
   },
   {
    "duration": 496,
    "start_time": "2023-05-02T15:45:39.164Z"
   },
   {
    "duration": 379,
    "start_time": "2023-05-02T15:45:39.662Z"
   },
   {
    "duration": 468,
    "start_time": "2023-05-02T15:45:40.056Z"
   },
   {
    "duration": 24,
    "start_time": "2023-05-02T15:45:40.526Z"
   },
   {
    "duration": 240,
    "start_time": "2023-05-02T15:45:40.551Z"
   },
   {
    "duration": 4,
    "start_time": "2023-05-02T15:45:40.793Z"
   },
   {
    "duration": 13,
    "start_time": "2023-05-02T15:45:40.798Z"
   },
   {
    "duration": 410,
    "start_time": "2023-05-02T15:45:40.812Z"
   },
   {
    "duration": 4,
    "start_time": "2023-05-02T15:45:41.224Z"
   },
   {
    "duration": 222,
    "start_time": "2023-05-02T15:45:41.231Z"
   },
   {
    "duration": 137,
    "start_time": "2023-05-02T15:45:41.454Z"
   },
   {
    "duration": 6,
    "start_time": "2023-05-02T15:45:41.593Z"
   },
   {
    "duration": 21,
    "start_time": "2023-05-02T15:45:41.600Z"
   },
   {
    "duration": 29,
    "start_time": "2023-05-02T15:45:41.622Z"
   },
   {
    "duration": 3,
    "start_time": "2023-05-02T15:45:41.653Z"
   },
   {
    "duration": 21,
    "start_time": "2023-05-02T15:45:41.658Z"
   },
   {
    "duration": 29,
    "start_time": "2023-05-02T15:45:41.680Z"
   },
   {
    "duration": 12,
    "start_time": "2023-05-02T15:45:41.710Z"
   },
   {
    "duration": 8,
    "start_time": "2023-05-02T15:53:22.680Z"
   },
   {
    "duration": 1351,
    "start_time": "2023-05-03T13:41:59.974Z"
   },
   {
    "duration": 336,
    "start_time": "2023-05-03T13:42:01.327Z"
   },
   {
    "duration": 9,
    "start_time": "2023-05-03T13:42:01.665Z"
   },
   {
    "duration": 26,
    "start_time": "2023-05-03T13:42:01.676Z"
   },
   {
    "duration": 35,
    "start_time": "2023-05-03T13:42:01.704Z"
   },
   {
    "duration": 49,
    "start_time": "2023-05-03T13:42:01.741Z"
   },
   {
    "duration": 53,
    "start_time": "2023-05-03T13:42:01.792Z"
   },
   {
    "duration": 42,
    "start_time": "2023-05-03T13:42:01.847Z"
   },
   {
    "duration": 30,
    "start_time": "2023-05-03T13:42:01.891Z"
   },
   {
    "duration": 53,
    "start_time": "2023-05-03T13:42:01.924Z"
   },
   {
    "duration": 47,
    "start_time": "2023-05-03T13:42:01.978Z"
   },
   {
    "duration": 55,
    "start_time": "2023-05-03T13:42:02.026Z"
   },
   {
    "duration": 29,
    "start_time": "2023-05-03T13:42:02.083Z"
   },
   {
    "duration": 32,
    "start_time": "2023-05-03T13:42:02.114Z"
   },
   {
    "duration": 34,
    "start_time": "2023-05-03T13:42:02.147Z"
   },
   {
    "duration": 34,
    "start_time": "2023-05-03T13:42:02.182Z"
   },
   {
    "duration": 66,
    "start_time": "2023-05-03T13:42:02.218Z"
   },
   {
    "duration": 11,
    "start_time": "2023-05-03T13:42:02.285Z"
   },
   {
    "duration": 89,
    "start_time": "2023-05-03T13:42:02.297Z"
   },
   {
    "duration": 10,
    "start_time": "2023-05-03T13:42:02.388Z"
   },
   {
    "duration": 48,
    "start_time": "2023-05-03T13:42:02.399Z"
   },
   {
    "duration": 46,
    "start_time": "2023-05-03T13:42:02.455Z"
   },
   {
    "duration": 29,
    "start_time": "2023-05-03T13:42:02.503Z"
   },
   {
    "duration": 329,
    "start_time": "2023-05-03T13:42:02.533Z"
   },
   {
    "duration": 460,
    "start_time": "2023-05-03T13:42:02.864Z"
   },
   {
    "duration": 357,
    "start_time": "2023-05-03T13:42:03.326Z"
   },
   {
    "duration": 482,
    "start_time": "2023-05-03T13:42:03.685Z"
   },
   {
    "duration": 396,
    "start_time": "2023-05-03T13:42:04.171Z"
   },
   {
    "duration": 502,
    "start_time": "2023-05-03T13:42:04.569Z"
   },
   {
    "duration": 11,
    "start_time": "2023-05-03T13:42:05.072Z"
   },
   {
    "duration": 257,
    "start_time": "2023-05-03T13:42:05.084Z"
   },
   {
    "duration": 16,
    "start_time": "2023-05-03T13:42:05.343Z"
   },
   {
    "duration": 48,
    "start_time": "2023-05-03T13:42:05.360Z"
   },
   {
    "duration": 418,
    "start_time": "2023-05-03T13:42:05.410Z"
   },
   {
    "duration": 5,
    "start_time": "2023-05-03T13:42:05.829Z"
   },
   {
    "duration": 284,
    "start_time": "2023-05-03T13:42:05.835Z"
   },
   {
    "duration": 162,
    "start_time": "2023-05-03T13:42:06.120Z"
   },
   {
    "duration": 6,
    "start_time": "2023-05-03T13:42:06.284Z"
   },
   {
    "duration": 30,
    "start_time": "2023-05-03T13:42:06.291Z"
   },
   {
    "duration": 9,
    "start_time": "2023-05-03T13:42:06.322Z"
   },
   {
    "duration": 31,
    "start_time": "2023-05-03T13:42:06.332Z"
   },
   {
    "duration": 16,
    "start_time": "2023-05-03T13:42:06.364Z"
   },
   {
    "duration": 24,
    "start_time": "2023-05-03T13:42:06.382Z"
   },
   {
    "duration": 12,
    "start_time": "2023-05-03T13:42:06.407Z"
   },
   {
    "duration": 70,
    "start_time": "2023-05-03T14:57:36.026Z"
   },
   {
    "duration": 1562,
    "start_time": "2023-05-03T14:57:43.423Z"
   },
   {
    "duration": 313,
    "start_time": "2023-05-03T14:57:44.988Z"
   },
   {
    "duration": 9,
    "start_time": "2023-05-03T14:57:45.305Z"
   },
   {
    "duration": 15,
    "start_time": "2023-05-03T14:57:45.317Z"
   },
   {
    "duration": 33,
    "start_time": "2023-05-03T14:57:45.334Z"
   },
   {
    "duration": 16,
    "start_time": "2023-05-03T14:57:45.369Z"
   },
   {
    "duration": 32,
    "start_time": "2023-05-03T14:57:45.388Z"
   },
   {
    "duration": 17,
    "start_time": "2023-05-03T14:57:45.423Z"
   },
   {
    "duration": 29,
    "start_time": "2023-05-03T14:57:45.442Z"
   },
   {
    "duration": 21,
    "start_time": "2023-05-03T14:57:45.474Z"
   },
   {
    "duration": 37,
    "start_time": "2023-05-03T14:57:45.497Z"
   },
   {
    "duration": 29,
    "start_time": "2023-05-03T14:57:45.536Z"
   },
   {
    "duration": 11,
    "start_time": "2023-05-03T14:57:45.567Z"
   },
   {
    "duration": 23,
    "start_time": "2023-05-03T14:57:45.580Z"
   },
   {
    "duration": 22,
    "start_time": "2023-05-03T14:57:45.605Z"
   },
   {
    "duration": 38,
    "start_time": "2023-05-03T14:57:45.630Z"
   },
   {
    "duration": 82,
    "start_time": "2023-05-03T14:57:45.670Z"
   },
   {
    "duration": 8,
    "start_time": "2023-05-03T14:57:45.754Z"
   },
   {
    "duration": 79,
    "start_time": "2023-05-03T14:57:45.764Z"
   },
   {
    "duration": 15,
    "start_time": "2023-05-03T14:57:45.846Z"
   },
   {
    "duration": 17,
    "start_time": "2023-05-03T14:57:45.864Z"
   },
   {
    "duration": 13,
    "start_time": "2023-05-03T14:57:45.883Z"
   },
   {
    "duration": 33,
    "start_time": "2023-05-03T14:57:45.898Z"
   },
   {
    "duration": 464,
    "start_time": "2023-05-03T14:57:45.933Z"
   },
   {
    "duration": 636,
    "start_time": "2023-05-03T14:57:46.399Z"
   },
   {
    "duration": 483,
    "start_time": "2023-05-03T14:57:47.037Z"
   },
   {
    "duration": 539,
    "start_time": "2023-05-03T14:57:47.522Z"
   },
   {
    "duration": 455,
    "start_time": "2023-05-03T14:57:48.065Z"
   },
   {
    "duration": 536,
    "start_time": "2023-05-03T14:57:48.522Z"
   },
   {
    "duration": 12,
    "start_time": "2023-05-03T14:57:49.060Z"
   },
   {
    "duration": 357,
    "start_time": "2023-05-03T14:57:49.076Z"
   },
   {
    "duration": 12,
    "start_time": "2023-05-03T14:57:49.436Z"
   },
   {
    "duration": 25,
    "start_time": "2023-05-03T14:57:49.453Z"
   },
   {
    "duration": 363,
    "start_time": "2023-05-03T14:57:49.480Z"
   },
   {
    "duration": 6,
    "start_time": "2023-05-03T14:57:49.845Z"
   },
   {
    "duration": 412,
    "start_time": "2023-05-03T14:57:49.853Z"
   },
   {
    "duration": 155,
    "start_time": "2023-05-03T14:57:50.267Z"
   },
   {
    "duration": 16,
    "start_time": "2023-05-03T14:57:50.425Z"
   },
   {
    "duration": 47,
    "start_time": "2023-05-03T14:57:50.443Z"
   },
   {
    "duration": 16,
    "start_time": "2023-05-03T14:57:50.493Z"
   },
   {
    "duration": 12,
    "start_time": "2023-05-03T14:57:50.511Z"
   },
   {
    "duration": 31,
    "start_time": "2023-05-03T14:57:50.526Z"
   },
   {
    "duration": 55,
    "start_time": "2023-05-03T14:57:50.559Z"
   },
   {
    "duration": 36,
    "start_time": "2023-05-03T14:57:50.616Z"
   },
   {
    "duration": 15,
    "start_time": "2023-05-03T15:08:37.599Z"
   },
   {
    "duration": 5,
    "start_time": "2023-05-03T15:10:04.294Z"
   },
   {
    "duration": 16,
    "start_time": "2023-05-03T15:10:14.921Z"
   },
   {
    "duration": 13,
    "start_time": "2023-05-03T15:11:21.330Z"
   },
   {
    "duration": 11,
    "start_time": "2023-05-03T15:12:03.624Z"
   },
   {
    "duration": 433,
    "start_time": "2023-05-03T15:29:03.683Z"
   },
   {
    "duration": 435,
    "start_time": "2023-05-03T15:29:21.910Z"
   },
   {
    "duration": 490,
    "start_time": "2023-05-03T15:30:41.484Z"
   },
   {
    "duration": 491,
    "start_time": "2023-05-03T15:30:58.082Z"
   },
   {
    "duration": 501,
    "start_time": "2023-05-03T15:31:51.751Z"
   },
   {
    "duration": 533,
    "start_time": "2023-05-03T15:32:01.843Z"
   },
   {
    "duration": 307,
    "start_time": "2023-05-03T15:35:50.186Z"
   },
   {
    "duration": 228,
    "start_time": "2023-05-03T15:36:21.163Z"
   },
   {
    "duration": 345,
    "start_time": "2023-05-03T15:36:44.491Z"
   },
   {
    "duration": 236,
    "start_time": "2023-05-03T15:39:03.205Z"
   },
   {
    "duration": 233,
    "start_time": "2023-05-03T15:39:33.413Z"
   },
   {
    "duration": 247,
    "start_time": "2023-05-03T15:39:54.873Z"
   },
   {
    "duration": 231,
    "start_time": "2023-05-03T15:40:08.846Z"
   },
   {
    "duration": 485,
    "start_time": "2023-05-03T16:08:00.857Z"
   },
   {
    "duration": 472,
    "start_time": "2023-05-03T16:08:43.058Z"
   },
   {
    "duration": 25,
    "start_time": "2023-05-03T16:13:57.157Z"
   },
   {
    "duration": 32,
    "start_time": "2023-05-03T16:16:13.804Z"
   },
   {
    "duration": 3,
    "start_time": "2023-05-03T16:17:22.103Z"
   },
   {
    "duration": 26,
    "start_time": "2023-05-03T16:19:14.491Z"
   },
   {
    "duration": 12,
    "start_time": "2023-05-03T16:19:44.019Z"
   },
   {
    "duration": 14,
    "start_time": "2023-05-03T16:20:48.065Z"
   },
   {
    "duration": 25,
    "start_time": "2023-05-03T16:21:14.897Z"
   },
   {
    "duration": 14,
    "start_time": "2023-05-03T16:21:22.791Z"
   },
   {
    "duration": 5,
    "start_time": "2023-05-03T16:21:27.758Z"
   },
   {
    "duration": 111,
    "start_time": "2023-05-03T16:21:27.766Z"
   },
   {
    "duration": 3,
    "start_time": "2023-05-03T16:21:27.879Z"
   },
   {
    "duration": 28,
    "start_time": "2023-05-03T16:21:27.884Z"
   },
   {
    "duration": 16,
    "start_time": "2023-05-03T16:21:27.914Z"
   },
   {
    "duration": 49,
    "start_time": "2023-05-03T16:21:27.932Z"
   },
   {
    "duration": 37,
    "start_time": "2023-05-03T16:21:27.983Z"
   },
   {
    "duration": 16,
    "start_time": "2023-05-03T16:21:28.023Z"
   },
   {
    "duration": 36,
    "start_time": "2023-05-03T16:21:28.043Z"
   },
   {
    "duration": 22,
    "start_time": "2023-05-03T16:21:28.081Z"
   },
   {
    "duration": 22,
    "start_time": "2023-05-03T16:21:28.105Z"
   },
   {
    "duration": 21,
    "start_time": "2023-05-03T16:21:28.129Z"
   },
   {
    "duration": 23,
    "start_time": "2023-05-03T16:21:28.154Z"
   },
   {
    "duration": 15,
    "start_time": "2023-05-03T16:21:28.179Z"
   },
   {
    "duration": 9,
    "start_time": "2023-05-03T16:21:28.196Z"
   },
   {
    "duration": 15,
    "start_time": "2023-05-03T16:21:28.207Z"
   },
   {
    "duration": 45,
    "start_time": "2023-05-03T16:21:28.226Z"
   },
   {
    "duration": 15,
    "start_time": "2023-05-03T16:21:28.273Z"
   },
   {
    "duration": 44,
    "start_time": "2023-05-03T16:21:28.291Z"
   },
   {
    "duration": 46,
    "start_time": "2023-05-03T16:21:28.337Z"
   },
   {
    "duration": 12,
    "start_time": "2023-05-03T16:21:28.386Z"
   },
   {
    "duration": 13,
    "start_time": "2023-05-03T16:21:28.400Z"
   },
   {
    "duration": 6,
    "start_time": "2023-05-03T16:21:28.416Z"
   },
   {
    "duration": 20,
    "start_time": "2023-05-03T16:21:28.424Z"
   },
   {
    "duration": 441,
    "start_time": "2023-05-03T16:21:28.446Z"
   },
   {
    "duration": 448,
    "start_time": "2023-05-03T16:21:28.889Z"
   },
   {
    "duration": 450,
    "start_time": "2023-05-03T16:21:29.345Z"
   },
   {
    "duration": 504,
    "start_time": "2023-05-03T16:21:29.798Z"
   },
   {
    "duration": 491,
    "start_time": "2023-05-03T16:21:30.304Z"
   },
   {
    "duration": 594,
    "start_time": "2023-05-03T16:21:30.797Z"
   },
   {
    "duration": 11,
    "start_time": "2023-05-03T16:21:31.393Z"
   },
   {
    "duration": 366,
    "start_time": "2023-05-03T16:21:31.406Z"
   },
   {
    "duration": 5,
    "start_time": "2023-05-03T16:21:31.774Z"
   },
   {
    "duration": 52,
    "start_time": "2023-05-03T16:21:31.780Z"
   },
   {
    "duration": 417,
    "start_time": "2023-05-03T16:21:31.834Z"
   },
   {
    "duration": 6,
    "start_time": "2023-05-03T16:21:32.253Z"
   },
   {
    "duration": 338,
    "start_time": "2023-05-03T16:21:32.269Z"
   },
   {
    "duration": 3,
    "start_time": "2023-05-03T16:21:32.609Z"
   },
   {
    "duration": 277,
    "start_time": "2023-05-03T16:21:32.614Z"
   },
   {
    "duration": 161,
    "start_time": "2023-05-03T16:21:32.893Z"
   },
   {
    "duration": 29,
    "start_time": "2023-05-03T16:21:33.056Z"
   },
   {
    "duration": 14,
    "start_time": "2023-05-03T16:21:33.087Z"
   },
   {
    "duration": 0,
    "start_time": "2023-05-03T16:21:33.103Z"
   },
   {
    "duration": 0,
    "start_time": "2023-05-03T16:21:33.104Z"
   },
   {
    "duration": 0,
    "start_time": "2023-05-03T16:21:33.105Z"
   },
   {
    "duration": 0,
    "start_time": "2023-05-03T16:21:33.107Z"
   },
   {
    "duration": 0,
    "start_time": "2023-05-03T16:21:33.108Z"
   },
   {
    "duration": 13,
    "start_time": "2023-05-03T16:22:20.394Z"
   },
   {
    "duration": 6,
    "start_time": "2023-05-03T16:24:22.993Z"
   },
   {
    "duration": 67,
    "start_time": "2023-05-03T16:24:25.703Z"
   },
   {
    "duration": 29,
    "start_time": "2023-05-03T16:25:08.869Z"
   },
   {
    "duration": 28,
    "start_time": "2023-05-03T16:27:30.404Z"
   },
   {
    "duration": 25,
    "start_time": "2023-05-03T16:27:55.707Z"
   },
   {
    "duration": 37,
    "start_time": "2023-05-03T16:30:06.319Z"
   },
   {
    "duration": 24,
    "start_time": "2023-05-03T16:30:24.089Z"
   },
   {
    "duration": 25,
    "start_time": "2023-05-03T16:32:59.967Z"
   },
   {
    "duration": 40,
    "start_time": "2023-05-03T16:34:58.714Z"
   },
   {
    "duration": 28,
    "start_time": "2023-05-03T16:35:06.701Z"
   },
   {
    "duration": 36,
    "start_time": "2023-05-03T16:35:29.613Z"
   },
   {
    "duration": 24,
    "start_time": "2023-05-03T16:35:38.608Z"
   },
   {
    "duration": 6,
    "start_time": "2023-05-03T16:36:20.137Z"
   },
   {
    "duration": 27,
    "start_time": "2023-05-03T16:36:44.491Z"
   },
   {
    "duration": 33,
    "start_time": "2023-05-03T16:36:58.756Z"
   },
   {
    "duration": 12,
    "start_time": "2023-05-03T16:39:20.157Z"
   },
   {
    "duration": 13,
    "start_time": "2023-05-03T16:43:23.108Z"
   },
   {
    "duration": 15,
    "start_time": "2023-05-03T16:44:39.920Z"
   },
   {
    "duration": 14,
    "start_time": "2023-05-03T16:45:17.736Z"
   },
   {
    "duration": 13,
    "start_time": "2023-05-03T16:47:19.077Z"
   },
   {
    "duration": 12,
    "start_time": "2023-05-03T16:47:40.862Z"
   },
   {
    "duration": 12,
    "start_time": "2023-05-03T16:48:44.751Z"
   },
   {
    "duration": 29,
    "start_time": "2023-05-03T16:49:39.379Z"
   },
   {
    "duration": 34,
    "start_time": "2023-05-03T16:51:13.218Z"
   },
   {
    "duration": 45,
    "start_time": "2023-05-03T16:51:34.847Z"
   },
   {
    "duration": 29,
    "start_time": "2023-05-03T16:52:23.414Z"
   },
   {
    "duration": 31,
    "start_time": "2023-05-03T16:53:20.459Z"
   },
   {
    "duration": 31,
    "start_time": "2023-05-03T16:54:09.228Z"
   },
   {
    "duration": 6,
    "start_time": "2023-05-03T16:55:45.229Z"
   },
   {
    "duration": 8,
    "start_time": "2023-05-03T16:56:00.635Z"
   },
   {
    "duration": 16,
    "start_time": "2023-05-03T16:58:32.988Z"
   },
   {
    "duration": 19,
    "start_time": "2023-05-03T17:03:51.299Z"
   },
   {
    "duration": 17,
    "start_time": "2023-05-03T17:04:37.570Z"
   },
   {
    "duration": 17,
    "start_time": "2023-05-03T17:04:58.547Z"
   },
   {
    "duration": 17,
    "start_time": "2023-05-03T17:05:41.728Z"
   }
  ],
  "kernelspec": {
   "display_name": "Python 3 (ipykernel)",
   "language": "python",
   "name": "python3"
  },
  "language_info": {
   "codemirror_mode": {
    "name": "ipython",
    "version": 3
   },
   "file_extension": ".py",
   "mimetype": "text/x-python",
   "name": "python",
   "nbconvert_exporter": "python",
   "pygments_lexer": "ipython3",
   "version": "3.10.9"
  },
  "toc": {
   "base_numbering": 1,
   "nav_menu": {},
   "number_sections": true,
   "sideBar": true,
   "skip_h1_title": true,
   "title_cell": "Table of Contents",
   "title_sidebar": "Contents",
   "toc_cell": false,
   "toc_position": {
    "height": "calc(100% - 180px)",
    "left": "10px",
    "top": "150px",
    "width": "361.391px"
   },
   "toc_section_display": true,
   "toc_window_display": false
  }
 },
 "nbformat": 4,
 "nbformat_minor": 2
}
